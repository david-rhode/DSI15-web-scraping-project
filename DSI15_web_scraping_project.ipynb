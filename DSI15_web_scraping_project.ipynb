{
 "cells": [
  {
   "cell_type": "markdown",
   "metadata": {
    "focus": false,
    "id": "69b9a648-bcc7-490d-9f9b-ea244d156bd6"
   },
   "source": [
    "<img src=\"http://imgur.com/1ZcRyrc.png\" style=\"float: left; margin: 15px; height: 80px\">\n",
    "\n",
    "\n",
    "# Web Scraping for Indeed.com and Predicting Salaries"
   ]
  },
  {
   "cell_type": "markdown",
   "metadata": {},
   "source": [
    "### Business Case Overview\n",
    "\n",
    "You're working as a data scientist for a contracting firm that's rapidly expanding. Now that they have their most valuable employee (you!), they need to leverage data to win more contracts. Your firm offers technology and scientific solutions and wants to be competitive in the hiring market. Your principal wants you to\n",
    "\n",
    "   - determine the industry factors that are most important in predicting the salary amounts for these data.\n",
    "\n",
    "To limit the scope, your principal has suggested that you *focus on data-related job postings*, e.g. data scientist, data analyst, research scientist, business intelligence, and any others you might think of. You may also want to decrease the scope by *limiting your search to a single region.*\n",
    "\n",
    "Hint: Aggregators like [Indeed.com](https://www.indeed.com) regularly pool job postings from a variety of markets and industries.\n",
    "\n",
    "**Goal:** Scrape your own data from a job aggregation tool like Indeed.com in order to collect the data to best answer this question.\n",
    "\n",
    "---\n",
    "\n",
    "### Directions\n",
    "\n",
    "In this project you will be leveraging a variety of skills. The first will be to use the web-scraping and/or API techniques you've learned to collect data on data jobs from Indeed.com or another aggregator. Once you have collected and cleaned the data, you will use it to address the question above."
   ]
  },
  {
   "cell_type": "markdown",
   "metadata": {},
   "source": [
    "### Factors that impact salary\n",
    "\n",
    "To predict salary the most appropriate approach would be a regression model.\n",
    "Here instead we just want to estimate which factors (like location, job title, job level, industry sector) lead to high or low salary and work with a classification model. To do so, split the salary into two groups of high and low salary, for example by choosing the median salary as a threshold (in principle you could choose any single or multiple splitting points).\n",
    "\n",
    "Use all the skills you have learned so far to build a predictive model.\n",
    "Whatever you decide to use, the most important thing is to justify your choices and interpret your results. *Communication of your process is key.* Note that most listings **DO NOT** come with salary information. You'll need to be able to extrapolate or predict the expected salaries for these listings."
   ]
  },
  {
   "cell_type": "markdown",
   "metadata": {
    "focus": false,
    "id": "a948d79c-5527-4c0d-ab23-f5d43ce72056"
   },
   "source": [
    "### Scraping job listings from Indeed.com"
   ]
  },
  {
   "cell_type": "markdown",
   "metadata": {
    "focus": true,
    "id": "7203e0c9-e437-4802-a6ad-7dc464f94436"
   },
   "source": [
    "We will be scraping job listings from Indeed.com using BeautifulSoup. Luckily, Indeed.com is a simple text page where we can easily find relevant entries.\n",
    "\n",
    "First, look at the source of an Indeed.com page: (http://www.indeed.com/jobs?q=data+scientist+%2420%2C000&l=New+York&start=10\").\n",
    "\n",
    "Notice, each job listing is underneath a `div` tag with a class name of `result`. We can use BeautifulSoup to extract those. "
   ]
  },
  {
   "cell_type": "markdown",
   "metadata": {
    "focus": false,
    "id": "9732c901-ae26-4160-8376-42e22dd327df"
   },
   "source": [
    "#### Setup a request (using `requests`) to the URL below. Use BeautifulSoup to parse the page and extract all results (HINT: Look for div tags with class name result)\n",
    "\n",
    "The URL here has many query parameters:\n",
    "\n",
    "- `q` for the job search\n",
    "- This is followed by \"+20,000\" to return results with salaries (or expected salaries >$20,000)\n",
    "- `l` for a location \n",
    "- `start` for what result number to start on"
   ]
  },
  {
   "cell_type": "code",
   "execution_count": 4,
   "metadata": {
    "focus": false,
    "id": "2efefc73-064a-482d-b3b5-ddf5508cb4ec"
   },
   "outputs": [],
   "source": [
    "import requests\n",
    "import bs4\n",
    "from bs4 import BeautifulSoup\n",
    "import numpy as np\n",
    "import pandas as pd"
   ]
  },
  {
   "cell_type": "markdown",
   "metadata": {
    "focus": false,
    "id": "bb0b866a-26a7-45e9-8084-5a0f90eb4b3e"
   },
   "source": [
    "Let's look at one result more closely. A single `result` looks like\n",
    "\n",
    "```\n",
    "<div class=\" row result\" data-jk=\"2480d203f7e97210\" data-tn-component=\"organicJob\" id=\"p_2480d203f7e97210\" itemscope=\"\" itemtype=\"http://schema.org/JobPosting\">\n",
    "<h2 class=\"jobtitle\" id=\"jl_2480d203f7e97210\">\n",
    "<a class=\"turnstileLink\" data-tn-element=\"jobTitle\" onmousedown=\"return rclk(this,jobmap[0],1);\" rel=\"nofollow\" target=\"_blank\" title=\"AVP/Quantitative Analyst\">AVP/Quantitative Analyst</a>\n",
    "</h2>\n",
    "<span class=\"company\" itemprop=\"hiringOrganization\" itemtype=\"http://schema.org/Organization\">\n",
    "<span itemprop=\"name\">\n",
    "<a href=\"/cmp/Alliancebernstein?from=SERP&amp;campaignid=serp-linkcompanyname&amp;fromjk=2480d203f7e97210&amp;jcid=b374f2a780e04789\" target=\"_blank\">\n",
    "    AllianceBernstein</a></span>\n",
    "</span>\n",
    "<tr>\n",
    "<td class=\"snip\">\n",
    "<nobr>$117,500 - $127,500 a year</nobr>\n",
    "<div>\n",
    "<span class=\"summary\" itemprop=\"description\">\n",
    "C onduct quantitative and statistical research as well as portfolio management for various investment portfolios. Collaborate with Quantitative Analysts and</span>\n",
    "</div>\n",
    "</div>\n",
    "</td>\n",
    "</tr>\n",
    "</table>\n",
    "</div>\n",
    "```\n",
    "\n",
    "While this has some more verbose elements removed, we can see that there is some structure to the above:\n",
    "- The salary is in a `span` with `class='salaryText'`.\n",
    "- The title of a job is in a link with class set to `jobtitle` and a `data-tn-element='jobTitle'`.  \n",
    "- The location is set in a `span` with `class='location'`. \n",
    "- The company is set in a `span` with `class='company'`. \n",
    "- Decide which other components could be relevant, for example the region or the summary of the job advert."
   ]
  },
  {
   "cell_type": "markdown",
   "metadata": {
    "focus": false,
    "id": "f1eddb90-4ba8-483c-a229-77e93aa53119"
   },
   "source": [
    "### Write 4 functions to extract each item: location, company, job, and salary.\n",
    "\n",
    "Example: \n",
    "```python\n",
    "def extract_location_from_result(result):\n",
    "    return result.find ...\n",
    "```\n",
    "\n",
    "\n",
    "- **Make sure these functions are robust and can handle cases where the data/field may not be available.**\n",
    "    - Remember to check if a field is empty or `None` for attempting to call methods on it.\n",
    "    - Remember to use `try/except` if you anticipate errors.\n",
    "- **Test** the functions on the results above and simple examples."
   ]
  },
  {
   "cell_type": "markdown",
   "metadata": {},
   "source": [
    "# STEP ONE: write functions to extract information from scraped results\n",
    "\n",
    "- We will need one function for each type of information that we want to take: locations, salaries, descriptions, company names and job titles."
   ]
  },
  {
   "cell_type": "code",
   "execution_count": 23,
   "metadata": {
    "focus": false,
    "id": "a1af53c9-9090-494f-b82e-cadb60a54909"
   },
   "outputs": [],
   "source": [
    "#function to extract location\n",
    "\n",
    "def extract_location_from_result():\n",
    "    locations = []\n",
    "    for result in soup.find_all('div', attrs={'class':'jobsearch-SerpJobCard'}):\n",
    "        try:\n",
    "            locations.append(result.find('span', attrs={'class':'location'}).text.strip())\n",
    "        except:\n",
    "            try:\n",
    "                locations.append(result.find('div', attrs={'class':'location'}).text.strip())\n",
    "            except:\n",
    "                locations.append(np.nan)\n",
    "    return locations"
   ]
  },
  {
   "cell_type": "code",
   "execution_count": 24,
   "metadata": {},
   "outputs": [],
   "source": [
    "#function to extract salary\n",
    "\n",
    "def extract_salary_from_result():\n",
    "    salaries = []\n",
    "    for result in soup.find_all('div', attrs={'class':'jobsearch-SerpJobCard'}):\n",
    "        try:\n",
    "            salaries.append(result.find('span', attrs={'class':'salaryText'}).text.strip())\n",
    "        except:\n",
    "            salaries.append(np.nan)\n",
    "    return salaries"
   ]
  },
  {
   "cell_type": "code",
   "execution_count": 25,
   "metadata": {},
   "outputs": [],
   "source": [
    "#function to extract description\n",
    "\n",
    "def extract_description_from_result():\n",
    "    descriptions = []\n",
    "    for result in soup.find_all('div', attrs={'class':'jobsearch-SerpJobCard'}):\n",
    "        try:\n",
    "            descriptions.append(result.find('div', attrs={'class':'summary'}).text.strip())\n",
    "        except:\n",
    "            descriptions.append(np.nan)\n",
    "    return descriptions"
   ]
  },
  {
   "cell_type": "code",
   "execution_count": 26,
   "metadata": {},
   "outputs": [],
   "source": [
    "#function to extract title\n",
    "\n",
    "def extract_title_from_result():\n",
    "    titles = []\n",
    "    for result in soup.find_all('div', attrs={'class':'jobsearch-SerpJobCard'}):\n",
    "        try:\n",
    "            titles.append(result.find('a', attrs = {'class': 'jobtitle', 'data-tn-element': 'jobTitle'}).text.strip())\n",
    "        except:\n",
    "            titles.append(np.nan) \n",
    "    return titles"
   ]
  },
  {
   "cell_type": "code",
   "execution_count": 27,
   "metadata": {},
   "outputs": [],
   "source": [
    "#function to extract company name\n",
    "\n",
    "def extract_company_from_result():\n",
    "    companies = []\n",
    "    for result in soup.find_all('div', attrs={'class':'jobsearch-SerpJobCard'}):\n",
    "        try:\n",
    "            companies.append(result.find('span', attrs={'class':'company'}).text.strip())\n",
    "        except:\n",
    "            companies.append(np.nan)    \n",
    "    return companies"
   ]
  },
  {
   "cell_type": "markdown",
   "metadata": {
    "focus": false,
    "id": "34070e89-9521-4b45-90c8-57a6599aac68"
   },
   "source": [
    "Now, to scale up our scraping, we need to accumulate more results. We can do this by examining the URL above.\n",
    "\n",
    "- \"http://www.indeed.com/jobs?q=data+scientist+%2420%2C000&l=New+York&start=10\"\n",
    "\n",
    "There are two query parameters here we can alter to collect more results, the `l=New+York` and the `start=10`. The first controls the location of the results (so we can try a different city). The second controls where in the results to start and gives 10 results (thus, we can keep incrementing by 10 to go further in the list)."
   ]
  },
  {
   "cell_type": "markdown",
   "metadata": {
    "focus": false,
    "id": "04b0f9af-540e-402f-8292-81748707c676"
   },
   "source": [
    "# STEP TWO: Strategy for web scraping\n",
    "\n",
    "- We will scrape job listings for fifteen UK cities. \n",
    "\n",
    "- The list will feature the biggest cities by population, and also those we know to be tech hubs.\n",
    "\n",
    "- The search will have a 25 mile radius around each city, so should cover the vast majority of relevant UK jobs.\n",
    "\n",
    "- We will perform four searches for each city: Data Scientist, Machine Learning, Artificial Intelligence, and Data Analyst.\n",
    "\n",
    "- It would be easy to loop through the fifteen cities, however it would be a headache if the website were to block us near the end of the loop. For that reason, we will manually adjust which city is being searched, saving the results from each one as we go.\n"
   ]
  },
  {
   "cell_type": "code",
   "execution_count": 217,
   "metadata": {},
   "outputs": [
    {
     "name": "stderr",
     "output_type": "stream",
     "text": [
      "100%|██████████| 29/29 [01:42<00:00,  3.53s/it]\n"
     ]
    }
   ],
   "source": [
    "#scraping indeed.co.uk for Data Scientist jobs.\n",
    "\n",
    "import requests\n",
    "import bs4\n",
    "from bs4 import BeautifulSoup\n",
    "import numpy as np\n",
    "import pandas as pd\n",
    "import time\n",
    "\n",
    "from tqdm import tqdm\n",
    "\n",
    "location = []\n",
    "description = []\n",
    "company = []\n",
    "salary = []\n",
    "title = []\n",
    "\n",
    "\n",
    "# target cities and number of results from each city to be manually adjusted, so results can be saved as we go.\n",
    "\n",
    "max_results_per_city = 300\n",
    "cities = ['Birmingham', 'London', 'Manchester', 'Liverpool', 'Bristol', 'Brighton', 'Edinburgh', 'Leeds', 'Glasgow', 'Newcastle', 'Cardiff', 'Reading', 'Cambridge', 'Oxford', 'Southampton']\n",
    "\n",
    "city = cities[0]\n",
    "    \n",
    "for x in tqdm(range(10, max_results_per_city, 10)):\n",
    "    time.sleep(np.abs(np.random.normal(loc = 3, scale = 0.5)))\n",
    "    url = 'https://www.indeed.co.uk/jobs?q=Data+Scientist&l={}&start={}'.format(city, x)\n",
    "    r = requests.get(url)\n",
    "    soup = BeautifulSoup(r.text, 'html.parser')\n",
    "    title.extend(extract_title_from_result())\n",
    "    salary.extend(extract_salary_from_result())\n",
    "    location.extend(extract_location_from_result())\n",
    "    description.extend(extract_description_from_result())\n",
    "    company.extend(extract_company_from_result())\n",
    "        \n",
    "  "
   ]
  },
  {
   "cell_type": "code",
   "execution_count": 235,
   "metadata": {},
   "outputs": [],
   "source": [
    "# dataframe to hold results from last city on list\n",
    "\n",
    "southampton_ds = pd.DataFrame({'Company': company, \n",
    "                     'Location': location,\n",
    "                     'Description': description,\n",
    "                     'Salary': salary,\n",
    "                     'Title': title})\n",
    "\n"
   ]
  },
  {
   "cell_type": "code",
   "execution_count": 220,
   "metadata": {},
   "outputs": [],
   "source": [
    "# dataframes for each city's Data Scientist results, duplicates removed\n",
    "\n",
    "birmingham_ds = birmingham_ds.drop_duplicates().reset_index(drop = True)\n",
    "london_ds = london_ds.drop_duplicates().reset_index(drop = True)\n",
    "manchester_ds = manchester_ds.drop_duplicates().reset_index(drop = True)\n",
    "liverpool_ds = liverpool_ds.drop_duplicates().reset_index(drop = True)\n",
    "bristol_ds = bristol_ds.drop_duplicates().reset_index(drop = True)\n",
    "brighton_ds = brighton_ds.drop_duplicates().reset_index(drop = True)\n",
    "edinburgh_ds = edinburgh_ds.drop_duplicates().reset_index(drop = True)\n",
    "newcastle_ds = newcastle_ds.drop_duplicates().reset_index(drop = True)\n",
    "leeds_ds = leeds_ds.drop_duplicates().reset_index(drop = True)\n",
    "glasgow_ds = glasgow_ds.drop_duplicates().reset_index(drop = True)\n",
    "cardiff_ds = cardiff_ds.drop_duplicates().reset_index(drop = True)\n",
    "reading_ds = reading_ds.drop_duplicates().reset_index(drop = True)\n",
    "cambridge_ds = cambridge_ds.drop_duplicates().reset_index(drop = True)\n",
    "oxford_ds = oxford_ds.drop_duplicates().reset_index(drop = True)\n",
    "southampton_ds = southampton_ds.drop_duplicates().reset_index(drop = True)"
   ]
  },
  {
   "cell_type": "code",
   "execution_count": 225,
   "metadata": {},
   "outputs": [],
   "source": [
    "# combine all Data Scientist results into one dataframe, remove missing values\n",
    "\n",
    "ds_jobs = pd.concat([birmingham_ds, london_ds, manchester_ds, liverpool_ds, bristol_ds, brighton_ds, edinburgh_ds, newcastle_ds, leeds_ds, glasgow_ds, cardiff_ds, reading_ds, cambridge_ds, oxford_ds, southampton_ds])\n",
    "ds_jobs = ds_jobs.drop(columns = ['index'])\n",
    "ds_jobs = ds_jobs.dropna()"
   ]
  },
  {
   "cell_type": "code",
   "execution_count": 350,
   "metadata": {},
   "outputs": [],
   "source": [
    "# save all DataScientist results to csv\n",
    "\n",
    "ds_jobs.to_csv(r'/Users/davidrhode/Desktop/GA/DSI15-lessons/project/project-4/ds_jobs.csv', index=False)"
   ]
  },
  {
   "cell_type": "code",
   "execution_count": 317,
   "metadata": {},
   "outputs": [
    {
     "name": "stderr",
     "output_type": "stream",
     "text": [
      "100%|██████████| 19/19 [01:10<00:00,  3.74s/it]\n"
     ]
    }
   ],
   "source": [
    "# Repeat the search for Machine Learning jobs\n",
    "\n",
    "location = []\n",
    "description = []\n",
    "company = []\n",
    "salary = []\n",
    "title = []\n",
    "\n",
    "\n",
    "max_results_per_city = 200\n",
    "cities = ['Birmingham', 'London', 'Manchester', 'Liverpool', 'Bristol', 'Brighton', 'Edinburgh', 'Leeds', 'Glasgow', 'Newcastle', 'Cardiff', 'Reading', 'Cambridge', 'Oxford', 'Southampton']\n",
    "\n",
    "city = cities[14]\n",
    "    \n",
    "for x in tqdm(range(10, max_results_per_city, 10)):\n",
    "    time.sleep(np.abs(np.random.normal(loc = 3, scale = 0.5)))\n",
    "    url = 'https://www.indeed.co.uk/jobs?q=machine+learning&l={}&start={}'.format(city, x)\n",
    "    r = requests.get(url)\n",
    "    soup = BeautifulSoup(r.text, 'html.parser')\n",
    "    title.extend(extract_title_from_result())\n",
    "    salary.extend(extract_salary_from_result())\n",
    "    location.extend(extract_location_from_result())\n",
    "    description.extend(extract_description_from_result())\n",
    "    company.extend(extract_company_from_result())\n",
    "        "
   ]
  },
  {
   "cell_type": "code",
   "execution_count": 319,
   "metadata": {},
   "outputs": [],
   "source": [
    "# dataframe to hold results from last city on list\n",
    "\n",
    "southampton_ml = pd.DataFrame({'Company': company, \n",
    "                     'Location': location,\n",
    "                     'Description': description,\n",
    "                     'Salary': salary,\n",
    "                     'Title': title})"
   ]
  },
  {
   "cell_type": "code",
   "execution_count": 320,
   "metadata": {},
   "outputs": [],
   "source": [
    "# dataframes for each city's Machine Learning results, duplicates removed\n",
    "\n",
    "birmingham_ml = birmingham_ml.drop_duplicates().reset_index(drop = True)\n",
    "london_ml = london_ml.drop_duplicates().reset_index(drop = True)\n",
    "manchester_ml = manchester_ml.drop_duplicates().reset_index(drop = True)\n",
    "liverpool_ml = liverpool_ml.drop_duplicates().reset_index(drop = True)\n",
    "bristol_ml = bristol_ml.drop_duplicates().reset_index(drop = True)\n",
    "brighton_ml = brighton_ml.drop_duplicates().reset_index(drop = True)\n",
    "edinburgh_ml = edinburgh_ml.drop_duplicates().reset_index(drop = True)\n",
    "leeds_ml = leeds_ml.drop_duplicates().reset_index(drop = True)\n",
    "glasgow_ml = glasgow_ml.drop_duplicates().reset_index(drop = True)\n",
    "newcastle_ml = newcastle_ml.drop_duplicates().reset_index(drop = True)\n",
    "reading_ml = reading_ml.drop_duplicates().reset_index(drop = True)\n",
    "cardiff_ml = cardiff_ml.drop_duplicates().reset_index(drop = True)\n",
    "cambridge_ml = cambridge_ml.drop_duplicates().reset_index(drop = True)\n",
    "oxford_ml = oxford_ml.drop_duplicates().reset_index(drop = True)\n",
    "southampton_ml = southampton_ml.drop_duplicates().reset_index(drop = True)"
   ]
  },
  {
   "cell_type": "code",
   "execution_count": 322,
   "metadata": {},
   "outputs": [],
   "source": [
    "# combine all Machine Learning results into one dataframe, remove missing values\n",
    "ml_jobs = pd.concat([birmingham_ml, london_ml, manchester_ml, liverpool_ml, bristol_ml, brighton_ml, edinburgh_ml, newcastle_ml, leeds_ml, glasgow_ml, cardiff_ml, reading_ml, cambridge_ml, oxford_ml, southampton_ml]).reset_index(drop = True)\n",
    "ml_jobs = ml_jobs.dropna()"
   ]
  },
  {
   "cell_type": "code",
   "execution_count": 348,
   "metadata": {},
   "outputs": [],
   "source": [
    "# save Machine Learning results to csv\n",
    "ml_jobs.to_csv(r'/Users/davidrhode/Desktop/GA/DSI15-lessons/project/project-4/ml_jobs.csv', index=False)"
   ]
  },
  {
   "cell_type": "code",
   "execution_count": 416,
   "metadata": {},
   "outputs": [
    {
     "name": "stderr",
     "output_type": "stream",
     "text": [
      "100%|██████████| 29/29 [01:45<00:00,  3.64s/it]\n"
     ]
    }
   ],
   "source": [
    "# Repeat the search for Artificial Intelligence jobs\n",
    "\n",
    "location = []\n",
    "description = []\n",
    "company = []\n",
    "salary = []\n",
    "title = []\n",
    "\n",
    "\n",
    "max_results_per_city = 300\n",
    "cities = ['Birmingham', 'London', 'Manchester', 'Liverpool', 'Bristol', 'Brighton', 'Edinburgh', 'Leeds', 'Glasgow', 'Newcastle', 'Cardiff', 'Reading', 'Cambridge', 'Oxford', 'Southampton']\n",
    "\n",
    "city = cities[14]\n",
    "    \n",
    "for x in tqdm(range(10, max_results_per_city, 10)):\n",
    "    time.sleep(np.abs(np.random.normal(loc = 3, scale = 0.5)))\n",
    "    url = 'https://www.indeed.co.uk/jobs?q=artificial+intelligence&l={}&start={}'.format(city, x)\n",
    "    r = requests.get(url)\n",
    "    soup = BeautifulSoup(r.text, 'html.parser')\n",
    "    title.extend(extract_title_from_result())\n",
    "    salary.extend(extract_salary_from_result())\n",
    "    location.extend(extract_location_from_result())\n",
    "    description.extend(extract_description_from_result())\n",
    "    company.extend(extract_company_from_result())"
   ]
  },
  {
   "cell_type": "code",
   "execution_count": 418,
   "metadata": {},
   "outputs": [],
   "source": [
    "# dataframe to hold results from last city on list\n",
    "\n",
    "southampton_ai = pd.DataFrame({'Company': company, \n",
    "                     'Location': location,\n",
    "                     'Description': description,\n",
    "                     'Salary': salary,\n",
    "                     'Title': title})"
   ]
  },
  {
   "cell_type": "code",
   "execution_count": 419,
   "metadata": {},
   "outputs": [],
   "source": [
    "# dataframes for each city's Artificial Intelligence results, duplicates removed\n",
    "\n",
    "london_ai = london_ai.drop_duplicates().reset_index(drop = True)\n",
    "birmingham_ai = birmingham_ai.drop_duplicates().reset_index(drop = True)\n",
    "manchester_ai = manchester_ai.drop_duplicates().reset_index(drop = True)\n",
    "liverpool_ai = liverpool_ai.drop_duplicates().reset_index(drop = True)\n",
    "bristol_ai = bristol_ai.drop_duplicates().reset_index(drop = True)\n",
    "brighton_ai = brighton_ai.drop_duplicates().reset_index(drop = True)\n",
    "edinburgh_ai = edinburgh_ai.drop_duplicates().reset_index(drop = True)\n",
    "leeds_ai = leeds_ai.drop_duplicates().reset_index(drop = True)\n",
    "glasgow_ai = glasgow_ai.drop_duplicates().reset_index(drop = True)\n",
    "newcastle_ai = newcastle_ai.drop_duplicates().reset_index(drop = True)\n",
    "cardiff_ai = cardiff_ai.drop_duplicates().reset_index(drop = True)\n",
    "reading_ai = reading_ai.drop_duplicates().reset_index(drop = True)\n",
    "cambridge_ai = cambridge_ai.drop_duplicates().reset_index(drop = True)\n",
    "oxford_ai = oxford_ai.drop_duplicates().reset_index(drop = True)\n",
    "southampton_ai = newcastle_ai.drop_duplicates().reset_index(drop = True)"
   ]
  },
  {
   "cell_type": "code",
   "execution_count": 421,
   "metadata": {},
   "outputs": [],
   "source": [
    "# combine all Artificial Intelligence results into one dataframe, remove missing values\n",
    "ai_jobs = pd.concat([birmingham_ai, london_ai, manchester_ai, liverpool_ai, bristol_ai, brighton_ai, edinburgh_ai, newcastle_ai, leeds_ai, glasgow_ai, cardiff_ai, reading_ai, cambridge_ai, oxford_ai, southampton_ai]).reset_index(drop = True)\n",
    "ai_jobs = ai_jobs.dropna()"
   ]
  },
  {
   "cell_type": "code",
   "execution_count": 428,
   "metadata": {},
   "outputs": [],
   "source": [
    "# save all Artificial Intelligence results to csv\n",
    "ai_jobs.to_csv(r'/Users/davidrhode/Desktop/GA/DSI15-lessons/project/project-4/ai_jobs.csv', index=False)"
   ]
  },
  {
   "cell_type": "code",
   "execution_count": 502,
   "metadata": {},
   "outputs": [
    {
     "name": "stderr",
     "output_type": "stream",
     "text": [
      "100%|██████████| 19/19 [01:11<00:00,  3.75s/it]\n"
     ]
    }
   ],
   "source": [
    "# Repeat the search for Data Analyst jobs\n",
    "\n",
    "location = []\n",
    "description = []\n",
    "company = []\n",
    "salary = []\n",
    "title = []\n",
    "\n",
    "\n",
    "max_results_per_city = 200\n",
    "cities = ['Birmingham', 'London', 'Manchester', 'Liverpool', 'Bristol', 'Brighton', 'Edinburgh', 'Leeds', 'Glasgow', 'Newcastle', 'Cardiff', 'Reading', 'Cambridge', 'Oxford', 'Southampton']\n",
    "\n",
    "city = cities[14]\n",
    "    \n",
    "for x in tqdm(range(10, max_results_per_city, 10)):\n",
    "    time.sleep(np.abs(np.random.normal(loc = 3, scale = 0.5)))\n",
    "    url = 'https://www.indeed.co.uk/jobs?q=data+analyst&l={}&start={}'.format(city, x)\n",
    "    r = requests.get(url)\n",
    "    soup = BeautifulSoup(r.text, 'html.parser')\n",
    "    title.extend(extract_title_from_result())\n",
    "    salary.extend(extract_salary_from_result())\n",
    "    location.extend(extract_location_from_result())\n",
    "    description.extend(extract_description_from_result())\n",
    "    company.extend(extract_company_from_result())"
   ]
  },
  {
   "cell_type": "code",
   "execution_count": 504,
   "metadata": {},
   "outputs": [],
   "source": [
    "# dataframe to hold results from last city on list\n",
    "\n",
    "southampton_da = pd.DataFrame({'Company': company, \n",
    "                     'Location': location,\n",
    "                     'Description': description,\n",
    "                     'Salary': salary,\n",
    "                     'Title': title})"
   ]
  },
  {
   "cell_type": "code",
   "execution_count": 505,
   "metadata": {},
   "outputs": [],
   "source": [
    "# dataframes for each city's Data Analyst results, duplicates removed\n",
    "\n",
    "birmingham_da = birmingham_da.drop_duplicates().reset_index(drop = True)\n",
    "london_da = london_da.drop_duplicates().reset_index(drop = True)\n",
    "manchester_da = manchester_da.drop_duplicates().reset_index(drop = True)\n",
    "liverpool_da = liverpool_da.drop_duplicates().reset_index(drop = True)\n",
    "bristol_da = bristol_da.drop_duplicates().reset_index(drop = True)\n",
    "brighton_da = brighton_da.drop_duplicates().reset_index(drop = True)\n",
    "edinburgh_da = edinburgh_da.drop_duplicates().reset_index(drop = True)\n",
    "leeds_da = leeds_da.drop_duplicates().reset_index(drop = True)\n",
    "glasgow_da = glasgow_da.drop_duplicates().reset_index(drop = True)\n",
    "newcastle_da = newcastle_da.drop_duplicates().reset_index(drop = True)\n",
    "cardiff_da = cardiff_da.drop_duplicates().reset_index(drop = True)\n",
    "reading_da = reading_da.drop_duplicates().reset_index(drop = True)\n",
    "cambridge_da = cambridge_da.drop_duplicates().reset_index(drop = True)\n",
    "oxford_da = oxford_da.drop_duplicates().reset_index(drop = True)\n",
    "southampton_da = southampton_da.drop_duplicates().reset_index(drop = True)"
   ]
  },
  {
   "cell_type": "code",
   "execution_count": 507,
   "metadata": {},
   "outputs": [],
   "source": [
    "# combine all Data Analyst results into one dataframe, remove missing values\n",
    "da_jobs = pd.concat([birmingham_da, london_da, manchester_da, liverpool_da, bristol_da, brighton_da, edinburgh_da, newcastle_da, leeds_da, glasgow_da, cardiff_da, reading_da, cambridge_da, oxford_da, southampton_da]).reset_index(drop = True)\n",
    "da_jobs = da_jobs.dropna()"
   ]
  },
  {
   "cell_type": "code",
   "execution_count": 511,
   "metadata": {},
   "outputs": [],
   "source": [
    "# save Data Analyst results to csv\n",
    "da_jobs.to_csv(r'/Users/davidrhode/Desktop/GA/DSI15-lessons/project/project-4/da_jobs.csv', index=False)"
   ]
  },
  {
   "cell_type": "code",
   "execution_count": 512,
   "metadata": {},
   "outputs": [],
   "source": [
    "# combine results for the four different searches, 1947 results in total\n",
    "all_jobs = pd.concat([ds_jobs, da_jobs, ai_jobs, ml_jobs]).reset_index(drop = True)"
   ]
  },
  {
   "cell_type": "code",
   "execution_count": 516,
   "metadata": {},
   "outputs": [],
   "source": [
    "# drop duplicates (some jobs will have shown up in more than one section), leaving 1736 results\n",
    "all_jobs = all_jobs.drop_duplicates()"
   ]
  },
  {
   "cell_type": "code",
   "execution_count": 520,
   "metadata": {},
   "outputs": [],
   "source": [
    "# save all jobs to csv\n",
    "all_jobs.to_csv(r'/Users/davidrhode/Desktop/GA/DSI15-lessons/project/project-4/all_jobs.csv', index=False)"
   ]
  },
  {
   "cell_type": "markdown",
   "metadata": {
    "focus": false,
    "id": "20339c09-5032-4e27-91be-286e9b46cd13"
   },
   "source": [
    "#### Use the functions you wrote above to parse out the 4 fields - location, title, company and salary. Create a dataframe from the results with those 4 columns. Lastly, we need to clean up salary data. "
   ]
  },
  {
   "cell_type": "markdown",
   "metadata": {},
   "source": [
    "\n",
    "\n",
    "1. Only a small number of the scraped results have salary information - only these will be used for modeling.\n",
    "1. Some of the salaries are not yearly but hourly or weekly, these will not be useful to us for now.\n",
    "1. Some of the entries may be duplicated.\n",
    "1. The salaries are given as text and usually with ranges."
   ]
  },
  {
   "cell_type": "markdown",
   "metadata": {},
   "source": [
    "# STEP THREE: Data cleaning \n",
    "\n",
    "- So far we have dropped all the duplicates and the results that have missing salary data.\n",
    "- We are only interested in jobs with annual salaries, not ones that pay daily or weekly\n",
    "- We need to clean the data in the 'Salary' column and convert it to the correct dtype\n",
    "- We need to remove the postcodes that are attached to a handful of locations\n",
    "- We need to make the locations consistent by renaming many of them (eg Newcastle Upon Tyne is the same as Newcastle)\n",
    "- We need to remove some non-data jobs that have been incorrectly returned (solicitors for example).\n"
   ]
  },
  {
   "cell_type": "code",
   "execution_count": 23,
   "metadata": {},
   "outputs": [],
   "source": [
    "# read in data for all jobs. \n",
    "all_jobs = pd.read_csv('all_jobs.csv')"
   ]
  },
  {
   "cell_type": "code",
   "execution_count": 24,
   "metadata": {},
   "outputs": [
    {
     "name": "stdout",
     "output_type": "stream",
     "text": [
      "all_jobs dataframe contains 0 duplicates\n",
      "all_jobs dataframe contains 0 null values\n"
     ]
    }
   ],
   "source": [
    "#So far, the missing values have been dropped and so have duplicates.\n",
    "\n",
    "print(f'all_jobs dataframe contains {all_jobs.duplicated().sum()} duplicates')\n",
    "print(f'all_jobs dataframe contains {all_jobs.isna().sum().sum()} null values')"
   ]
  },
  {
   "cell_type": "code",
   "execution_count": 25,
   "metadata": {},
   "outputs": [],
   "source": [
    "#create new dataframe, annual jobs, to contain only those jobs with annual salary (1551 rows)\n",
    "\n",
    "year_filter = all_jobs['Salary'].str.contains('year')\n",
    "annual_jobs = all_jobs.loc[year_filter, :]"
   ]
  },
  {
   "cell_type": "markdown",
   "metadata": {},
   "source": [
    "#### Write a function that takes a salary string and converts it to a number, averaging a salary range if necessary."
   ]
  },
  {
   "cell_type": "code",
   "execution_count": 26,
   "metadata": {},
   "outputs": [],
   "source": [
    "# function to clean salary column\n",
    "\n",
    "def convert_to_single_number(string_series):\n",
    "    clean_string = string_series.str.replace('£', '').str.replace(',', '').str.rstrip('a year')\n",
    "    split_string = clean_string.apply(lambda x: x.split('-'))\n",
    "    first_num = split_string.apply(lambda x: pd.to_numeric(x[0]))\n",
    "    last_num = split_string.apply(lambda x: pd.to_numeric(x[-1]))\n",
    "    return (last_num + first_num) / 2\n"
   ]
  },
  {
   "cell_type": "code",
   "execution_count": 27,
   "metadata": {},
   "outputs": [
    {
     "name": "stderr",
     "output_type": "stream",
     "text": [
      "/Users/davidrhode/Desktop/anaconda3/lib/python3.7/site-packages/ipykernel_launcher.py:3: SettingWithCopyWarning: \n",
      "A value is trying to be set on a copy of a slice from a DataFrame.\n",
      "Try using .loc[row_indexer,col_indexer] = value instead\n",
      "\n",
      "See the caveats in the documentation: https://pandas.pydata.org/pandas-docs/stable/user_guide/indexing.html#returning-a-view-versus-a-copy\n",
      "  This is separate from the ipykernel package so we can avoid doing imports until\n"
     ]
    }
   ],
   "source": [
    "#clean salary column\n",
    "\n",
    "annual_jobs['Salary'] = convert_to_single_number(annual_jobs['Salary'])"
   ]
  },
  {
   "cell_type": "code",
   "execution_count": 28,
   "metadata": {},
   "outputs": [
    {
     "data": {
      "text/plain": [
       "dtype('float64')"
      ]
     },
     "execution_count": 28,
     "metadata": {},
     "output_type": "execute_result"
    }
   ],
   "source": [
    "annual_jobs['Salary'].dtype"
   ]
  },
  {
   "cell_type": "code",
   "execution_count": 29,
   "metadata": {},
   "outputs": [
    {
     "data": {
      "text/plain": [
       "0    44750.0\n",
       "2    60000.0\n",
       "3    29000.0\n",
       "4    45000.0\n",
       "5    70000.0\n",
       "Name: Salary, dtype: float64"
      ]
     },
     "execution_count": 29,
     "metadata": {},
     "output_type": "execute_result"
    }
   ],
   "source": [
    "annual_jobs['Salary'].head()"
   ]
  },
  {
   "cell_type": "markdown",
   "metadata": {},
   "source": [
    "**It would also be helpful to clean up the 'Location' column. There are over a dozen locations that are seemingly unique due to having postcode information (missing from the vast majority of entries). We can remove these to clean up the data.**"
   ]
  },
  {
   "cell_type": "code",
   "execution_count": 58,
   "metadata": {},
   "outputs": [
    {
     "data": {
      "text/plain": [
       "Manchester M12 6JH    1\n",
       "Windsor               1\n",
       "Redhill RH1 1PR       1\n",
       "Name: Location, dtype: int64"
      ]
     },
     "execution_count": 58,
     "metadata": {},
     "output_type": "execute_result"
    }
   ],
   "source": [
    "# examples of postcodes attached to small percentage of locations\n",
    "\n",
    "annual_jobs['Location'].value_counts().tail(3)"
   ]
  },
  {
   "cell_type": "code",
   "execution_count": 54,
   "metadata": {},
   "outputs": [],
   "source": [
    "# create a regular expression to remove the postcodes\n",
    "import re\n",
    "pattern = r'([A-Z][A-Z0-9]{0,1})([A-Z0-9]{0,2}) {0,}(([0-9])([A-Z]{0,2}))'\n"
   ]
  },
  {
   "cell_type": "code",
   "execution_count": 61,
   "metadata": {},
   "outputs": [
    {
     "name": "stderr",
     "output_type": "stream",
     "text": [
      "/Users/davidrhode/Desktop/anaconda3/lib/python3.7/site-packages/ipykernel_launcher.py:1: SettingWithCopyWarning: \n",
      "A value is trying to be set on a copy of a slice from a DataFrame.\n",
      "Try using .loc[row_indexer,col_indexer] = value instead\n",
      "\n",
      "See the caveats in the documentation: https://pandas.pydata.org/pandas-docs/stable/user_guide/indexing.html#returning-a-view-versus-a-copy\n",
      "  \"\"\"Entry point for launching an IPython kernel.\n"
     ]
    }
   ],
   "source": [
    "# remove postcodes\n",
    "annual_jobs['Location'] = annual_jobs['Location'].str.replace(pattern, '')"
   ]
  },
  {
   "cell_type": "code",
   "execution_count": 63,
   "metadata": {},
   "outputs": [
    {
     "data": {
      "text/plain": [
       "Dunfermline             1\n",
       "East Croydon Station    1\n",
       "South West              1\n",
       "Name: Location, dtype: int64"
      ]
     },
     "execution_count": 63,
     "metadata": {},
     "output_type": "execute_result"
    }
   ],
   "source": [
    "# confirm postcodes have been removed\n",
    "annual_jobs['Location'].value_counts().tail(3)"
   ]
  },
  {
   "cell_type": "code",
   "execution_count": 188,
   "metadata": {},
   "outputs": [],
   "source": [
    "annual_jobs['Location'] = annual_jobs['Location'].str.strip()"
   ]
  },
  {
   "cell_type": "markdown",
   "metadata": {},
   "source": [
    "There are a couple more data cleaning jobs to do before we move forward with modelling. Some of the 'Location' entries are inconsistent - most of them are major towns/cities, but some of them are districts within these towns. For example, 'Covent Garden' is an area in central London, and should be replaced with 'London'.\n",
    "\n",
    "Also, Indeed has incorrectly shown us some jobs that aren't connected with data, but are related to the legal profession."
   ]
  },
  {
   "cell_type": "code",
   "execution_count": 191,
   "metadata": {},
   "outputs": [],
   "source": [
    "# create mapping dictionary for locations\n",
    "\n",
    "location_mapping_dict = {'Sutton': 'London', 'Colindale': 'London', 'Brentford': 'London', 'West Drayton': 'London', 'East London': 'London', 'North London': 'London', 'West London': 'London', 'Uxbridge': 'London', 'Covent Garden': 'London', 'South Kensington': 'London', 'Newcastle upon Tyne': 'Newcastle', 'Ealing': 'London', 'South London': 'London', 'London Bridge Station': 'London', 'Heathrow': 'London', 'Hammersmith': 'London', 'Tooting': 'London', 'Greater London': 'London', 'Dartford': 'London', 'Canary Wharf': 'London', 'West End': 'London', 'Richmond': 'London', 'Twickenham': 'London', 'Salford Quays': 'Salford', 'Portishead': 'Bristol', 'Brighton and Hove': 'Brighton', 'Paddington': 'London', 'Teddington': 'London', 'Hove': 'Brighton', 'Hendon': 'London', 'University of Warwick': 'Warwick', 'University of York': 'York'}"
   ]
  },
  {
   "cell_type": "code",
   "execution_count": 195,
   "metadata": {},
   "outputs": [],
   "source": [
    "# clean up location values\n",
    "\n",
    "annual_jobs['Location'] = annual_jobs['Location'].replace(location_mapping_dict)"
   ]
  },
  {
   "cell_type": "code",
   "execution_count": 59,
   "metadata": {},
   "outputs": [],
   "source": [
    "# create boolean filter for rows that are not relevant to data jobs\n",
    "\n",
    "law = annual_jobs['Title'].str.contains('Law')\n",
    "solicitor = annual_jobs['Title'].str.contains('Solicitor')\n",
    "lawyer = annual_jobs['Title'].str.contains('Lawyer')\n",
    "accountant = annual_jobs['Title'].str.contains('Accountant')\n",
    "designer = annual_jobs['Title'].str.contains('UX Designer')\n",
    "\n",
    "disallowed = law | solicitor | lawyer | accountant | designer"
   ]
  },
  {
   "cell_type": "code",
   "execution_count": 64,
   "metadata": {},
   "outputs": [],
   "source": [
    "# drop irrelevant rows\n",
    "\n",
    "annual_jobs = annual_jobs.loc[~disallowed]"
   ]
  },
  {
   "cell_type": "markdown",
   "metadata": {},
   "source": [
    "### Save your results as a CSV"
   ]
  },
  {
   "cell_type": "code",
   "execution_count": 284,
   "metadata": {},
   "outputs": [],
   "source": [
    "# save cleaned dataset to csv\n",
    "annual_jobs.to_csv(r'/Users/davidrhode/Desktop/GA/DSI15-lessons/project/project-4/annual_jobs.csv', index=False)"
   ]
  },
  {
   "cell_type": "markdown",
   "metadata": {
    "focus": false,
    "id": "243e949e-2742-40af-872e-fec475fd306c"
   },
   "source": [
    "### Load in the the data of scraped salaries"
   ]
  },
  {
   "cell_type": "code",
   "execution_count": 4,
   "metadata": {
    "focus": false,
    "id": "588f9845-6143-4bcc-bfd1-85d45b79303d"
   },
   "outputs": [],
   "source": [
    "import pandas as pd\n",
    "annual_jobs = pd.read_csv('annual_jobs.csv')"
   ]
  },
  {
   "cell_type": "code",
   "execution_count": 67,
   "metadata": {},
   "outputs": [
    {
     "name": "stdout",
     "output_type": "stream",
     "text": [
      "<class 'pandas.core.frame.DataFrame'>\n",
      "Int64Index: 1545 entries, 0 to 1550\n",
      "Data columns (total 5 columns):\n",
      " #   Column       Non-Null Count  Dtype  \n",
      "---  ------       --------------  -----  \n",
      " 0   Company      1545 non-null   object \n",
      " 1   Location     1545 non-null   object \n",
      " 2   Description  1545 non-null   object \n",
      " 3   Salary       1545 non-null   float64\n",
      " 4   Title        1545 non-null   object \n",
      "dtypes: float64(1), object(4)\n",
      "memory usage: 72.4+ KB\n"
     ]
    }
   ],
   "source": [
    "annual_jobs.info()"
   ]
  },
  {
   "cell_type": "markdown",
   "metadata": {
    "focus": false,
    "id": "c7631f51-07f2-4c79-a093-3e9bc7849a48"
   },
   "source": [
    "### We want to predict a binary variable - whether the salary was low or high. Compute the median salary and create a new binary variable that is true when the salary is high (above the median).\n",
    "\n",
    "We could also perform Linear Regression (or any regression) to predict the salary value here. Instead, we are going to convert this into a _binary_ classification problem, by predicting two classes, HIGH vs LOW salary.\n",
    "\n",
    "While performing regression may be better, performing classification may help remove some of the noise of the extreme salaries. We don't have to choose the `median` as the splitting point - we could also split on the 75th percentile or any other reasonable breaking point.\n",
    "\n",
    "In fact, the ideal scenario may be to predict many levels of salaries."
   ]
  },
  {
   "cell_type": "markdown",
   "metadata": {},
   "source": [
    "# STEP FOUR: Preparing to model the newly-cleaned data\n",
    "\n",
    "- The data is now clean and ready to be modelled\n",
    "- As we are carrying out a classification task, we need to split the target variable into two classes\n",
    "- We need to examine the split point, and calculate a baseline figure.\n"
   ]
  },
  {
   "cell_type": "code",
   "execution_count": 68,
   "metadata": {},
   "outputs": [
    {
     "data": {
      "text/plain": [
       "45000.0"
      ]
     },
     "execution_count": 68,
     "metadata": {},
     "output_type": "execute_result"
    }
   ],
   "source": [
    "# check median salary\n",
    "\n",
    "annual_jobs['Salary'].median()"
   ]
  },
  {
   "cell_type": "code",
   "execution_count": 69,
   "metadata": {},
   "outputs": [
    {
     "data": {
      "text/plain": [
       "0.47896440129449835"
      ]
     },
     "execution_count": 69,
     "metadata": {},
     "output_type": "execute_result"
    }
   ],
   "source": [
    "# less than 48% have a salary greater than the median, which seems strange\n",
    "(annual_jobs['Salary'] > 45000).mean()"
   ]
  },
  {
   "cell_type": "code",
   "execution_count": 70,
   "metadata": {},
   "outputs": [
    {
     "data": {
      "text/plain": [
       "75"
      ]
     },
     "execution_count": 70,
     "metadata": {},
     "output_type": "execute_result"
    }
   ],
   "source": [
    "# it turns out this is because no less than 75 jobs have a salary exactly equal to the median\n",
    "# since this group can't be separated, it's impossible for us to split the data into two categories of exactly 50% each.\n",
    "\n",
    "(annual_jobs['Salary'] == 45000).sum()"
   ]
  },
  {
   "cell_type": "code",
   "execution_count": 71,
   "metadata": {
    "focus": false,
    "id": "c20d2498-151c-44c3-a453-3a333c79a0ac"
   },
   "outputs": [
    {
     "name": "stderr",
     "output_type": "stream",
     "text": [
      "/Users/davidrhode/Desktop/anaconda3/lib/python3.7/site-packages/ipykernel_launcher.py:3: SettingWithCopyWarning: \n",
      "A value is trying to be set on a copy of a slice from a DataFrame.\n",
      "Try using .loc[row_indexer,col_indexer] = value instead\n",
      "\n",
      "See the caveats in the documentation: https://pandas.pydata.org/pandas-docs/stable/user_guide/indexing.html#returning-a-view-versus-a-copy\n",
      "  This is separate from the ipykernel package so we can avoid doing imports until\n"
     ]
    },
    {
     "data": {
      "text/plain": [
       "0       0\n",
       "1       1\n",
       "2       0\n",
       "3       0\n",
       "4       1\n",
       "       ..\n",
       "1546    1\n",
       "1547    1\n",
       "1548    0\n",
       "1549    0\n",
       "1550    1\n",
       "Name: high_salary, Length: 1545, dtype: int64"
      ]
     },
     "execution_count": 71,
     "metadata": {},
     "output_type": "execute_result"
    }
   ],
   "source": [
    "# add a new column to the dataframe, a binary variable that is '1' for salaries above the median and 0 otherwise.\n",
    "\n",
    "annual_jobs['high_salary'] = (annual_jobs['Salary'] > annual_jobs['Salary'].median()) * 1\n",
    "annual_jobs['high_salary']"
   ]
  },
  {
   "cell_type": "markdown",
   "metadata": {
    "focus": false,
    "id": "a7afb2c0-d41e-4779-8216-91cd8dd4473f"
   },
   "source": [
    "#### Thought experiment: What is the baseline accuracy for this model?"
   ]
  },
  {
   "cell_type": "code",
   "execution_count": 6,
   "metadata": {
    "focus": false,
    "id": "87a17d3d-b7f4-4747-9f75-f9af1d18a174"
   },
   "outputs": [
    {
     "data": {
      "text/plain": [
       "0    0.521036\n",
       "1    0.478964\n",
       "Name: high_salary, dtype: float64"
      ]
     },
     "execution_count": 6,
     "metadata": {},
     "output_type": "execute_result"
    }
   ],
   "source": [
    "#the baseline accuracy is a fraction over 52%\n",
    "\n",
    "annual_jobs['high_salary'].value_counts(normalize = True)"
   ]
  },
  {
   "cell_type": "markdown",
   "metadata": {
    "focus": false,
    "id": "4fb29de2-5b98-474c-a4ad-5170b72b9aea"
   },
   "source": [
    "### Create a classification model to predict High/Low salary. \n",
    "\n",
    "\n",
    "- Start by ONLY using the location as a feature.\n",
    "- Use at least two different classifiers you find suitable.\n",
    "- Remember that scaling your features might be necessary.\n",
    "- Display the coefficients/feature importances and write a short summary of what they mean.\n",
    "- Create a few new variables in your dataframe to represent interesting features of a job title (e.g. whether 'Senior' or 'Manager' is in the title).\n",
    "- Incorporate other text features from the title or summary that you believe will predict the salary.\n",
    "- Then build new classification models including also those features. Do they add any value?\n",
    "- Tune your models by testing parameter ranges, regularization strengths, etc. Discuss how that affects your models.\n",
    "- Discuss model coefficients or feature importances as applicable."
   ]
  },
  {
   "cell_type": "code",
   "execution_count": 5,
   "metadata": {},
   "outputs": [],
   "source": [
    "from sklearn.linear_model import LogisticRegression\n",
    "from sklearn.ensemble import RandomForestClassifier\n",
    "from sklearn.preprocessing import OneHotEncoder, StandardScaler\n",
    "from sklearn.model_selection import train_test_split, cross_val_score, GridSearchCV\n",
    "from sklearn.pipeline import Pipeline\n",
    "import numpy as np\n",
    "from sklearn.metrics import  plot_confusion_matrix, plot_roc_curve, plot_precision_recall_curve, roc_auc_score, average_precision_score\n",
    "import matplotlib.pyplot as plt\n",
    "import seaborn as sns\n",
    "sns.set_style('darkgrid')\n",
    "import scipy\n"
   ]
  },
  {
   "cell_type": "code",
   "execution_count": 9,
   "metadata": {},
   "outputs": [],
   "source": [
    "# our first model will only use the 'Location' column as a predictor, which needs to be dummified\n",
    "X = annual_jobs['Location']\n",
    "y = annual_jobs['high_salary']\n",
    "X = pd.get_dummies(X, drop_first = True)\n",
    "\n",
    "#split data into train and test sets\n",
    "\n",
    "X_train, X_test, y_train, y_test = train_test_split(\n",
    "    X, y, test_size = 0.2,\n",
    "    stratify = y, random_state = 1)"
   ]
  },
  {
   "cell_type": "markdown",
   "metadata": {},
   "source": [
    "# STEP FIVE: A basic model based on only one feature \n",
    "\n",
    "- We have been asked to start out with only one feature, 'Location'.\n",
    "- We will start by trying Logistic Regression, the results have the benefit of being easily explainable to a lay audience. \n",
    "- Afterwards we can try an ensemble model to see if we can improve on the score."
   ]
  },
  {
   "cell_type": "code",
   "execution_count": null,
   "metadata": {},
   "outputs": [],
   "source": [
    "#instantiate logistic regression model\n",
    "\n",
    "lr = LogisticRegression(verbose = 1, max_iter = 1000)\n",
    "\n",
    "\n",
    "# create a search grid for parameters to tune\n",
    "\n",
    "params = {'C': np.logspace(-5, 5, 15),\n",
    "          'penalty': ['l1', 'l2'],\n",
    "          'fit_intercept': [True, False]}\n",
    "\n",
    "# instantiate GridSearch object and fit it to training data\n",
    "\n",
    "gs_lr = GridSearchCV(estimator = lr,\n",
    "                  param_grid = params,\n",
    "                  cv = 5,\n",
    "                  scoring = 'accuracy',\n",
    "                  verbose = 1)\n",
    "\n",
    "gs_lr.fit(X_train, y_train)"
   ]
  },
  {
   "cell_type": "code",
   "execution_count": 78,
   "metadata": {},
   "outputs": [
    {
     "name": "stdout",
     "output_type": "stream",
     "text": [
      "cross validated score: 0.6617800705237038\n",
      "test score: 0.6181229773462783\n",
      "best grid search params: {'C': 100000.0, 'fit_intercept': True, 'penalty': 'l2'}\n"
     ]
    }
   ],
   "source": [
    "#cross validated scores are well above baseline (which is about 52%)\n",
    "\n",
    "print('cross validated score:', gs_lr.best_score_)\n",
    "print('test score:', gs_lr.score(X_test, y_test))\n",
    "print('best grid search params:', gs_lr.best_params_)"
   ]
  },
  {
   "cell_type": "code",
   "execution_count": 29,
   "metadata": {},
   "outputs": [
    {
     "data": {
      "image/png": "[encoded data removed]",
      "text/plain": [
       "<Figure size 432x288 with 2 Axes>"
      ]
     },
     "metadata": {},
     "output_type": "display_data"
    }
   ],
   "source": [
    "# confusion matrix for test set (first logistic regression model, only one feature)\n",
    "\n",
    "plot_confusion_matrix(gs_lr, X_test, y_test, cmap=plt.cm.Blues);"
   ]
  },
  {
   "cell_type": "code",
   "execution_count": 80,
   "metadata": {},
   "outputs": [
    {
     "data": {
      "image/png": "[encoded data removed]",
      "text/plain": [
       "<Figure size 432x432 with 1 Axes>"
      ]
     },
     "metadata": {},
     "output_type": "display_data"
    }
   ],
   "source": [
    "#plot roc curve on test set for logistic regression\n",
    "\n",
    "fig, ax = plt.subplots(figsize=(6, 6))\n",
    "ax.plot([0, 1], [0, 1], 'k--', linewidth=2)\n",
    "plot_roc_curve(gs_lr, X_test, y_test, ax = ax)\n",
    "plt.show()"
   ]
  },
  {
   "cell_type": "code",
   "execution_count": 81,
   "metadata": {},
   "outputs": [
    {
     "data": {
      "image/png": "[encoded data removed]",
      "text/plain": [
       "<Figure size 432x288 with 1 Axes>"
      ]
     },
     "metadata": {},
     "output_type": "display_data"
    }
   ],
   "source": [
    "# precision-recall curve for logistic regression on test set\n",
    "\n",
    "plot_precision_recall_curve(gs_lr, X_test, y_test);"
   ]
  },
  {
   "cell_type": "code",
   "execution_count": 82,
   "metadata": {},
   "outputs": [
    {
     "data": {
      "image/png": "[encoded data removed]",
      "text/plain": [
       "<Figure size 720x720 with 1 Axes>"
      ]
     },
     "metadata": {},
     "output_type": "display_data"
    }
   ],
   "source": [
    "# with over 200 dummified features it will be cumbersome to plot all the model coefficients so we will extract the twenty most significant to visualise\n",
    "\n",
    "coefs_lr = pd.DataFrame({\n",
    "    'coef': gs_lr.best_estimator_.coef_[0],\n",
    "    'variable': X.columns,\n",
    "    'abscoef': np.abs(gs_lr.best_estimator_.coef_[0])\n",
    "})\n",
    "\n",
    "top_twenty = coefs_lr.sort_values('abscoef', ascending=False).head(20)\n",
    "top_twenty.plot(kind='barh', x='variable', y='coef',\n",
    "                       figsize=(10, 10), label='Logistic Regression Coefficients')\n",
    "plt.show()"
   ]
  },
  {
   "cell_type": "code",
   "execution_count": 10,
   "metadata": {},
   "outputs": [
    {
     "name": "stdout",
     "output_type": "stream",
     "text": [
      "Fitting 5 folds for each of 3 candidates, totalling 15 fits\n"
     ]
    },
    {
     "name": "stderr",
     "output_type": "stream",
     "text": [
      "[Parallel(n_jobs=-2)]: Using backend LokyBackend with 3 concurrent workers.\n",
      "[Parallel(n_jobs=-2)]: Done  15 out of  15 | elapsed:   23.4s finished\n",
      "[Parallel(n_jobs=-2)]: Using backend ThreadingBackend with 3 concurrent workers.\n",
      "[Parallel(n_jobs=-2)]: Done  44 tasks      | elapsed:    0.1s\n",
      "[Parallel(n_jobs=-2)]: Done 194 tasks      | elapsed:    0.8s\n",
      "[Parallel(n_jobs=-2)]: Done 444 tasks      | elapsed:    1.6s\n",
      "[Parallel(n_jobs=-2)]: Done 500 out of 500 | elapsed:    1.8s finished\n"
     ]
    },
    {
     "data": {
      "text/plain": [
       "GridSearchCV(cv=5, estimator=RandomForestClassifier(n_jobs=-2, verbose=1),\n",
       "             n_jobs=-2,\n",
       "             param_grid={'max_features': [0.6, 0.8, 1.0],\n",
       "                         'n_estimators': [500]},\n",
       "             scoring='accuracy', verbose=1)"
      ]
     },
     "execution_count": 10,
     "metadata": {},
     "output_type": "execute_result"
    }
   ],
   "source": [
    "# instantiate RandomForest model, grid search and fit to training data\n",
    "\n",
    "rf = RandomForestClassifier(n_jobs = -2, verbose = 1)\n",
    "\n",
    "rf_params = {'n_estimators' : [500], \n",
    "            'max_features' : [0.6, 0.8, 1.0]}\n",
    "\n",
    "gs_rf = GridSearchCV(estimator = rf,\n",
    "                     param_grid = rf_params,\n",
    "                     cv = 5,\n",
    "                     scoring = 'accuracy',\n",
    "                     n_jobs = -2,\n",
    "                     verbose = 1)\n",
    "\n",
    "gs_rf.fit(X_train, y_train)"
   ]
  },
  {
   "cell_type": "code",
   "execution_count": 84,
   "metadata": {},
   "outputs": [
    {
     "name": "stdout",
     "output_type": "stream",
     "text": [
      "cross validated score: 0.6601606373253233\n"
     ]
    },
    {
     "name": "stderr",
     "output_type": "stream",
     "text": [
      "[Parallel(n_jobs=3)]: Using backend ThreadingBackend with 3 concurrent workers.\n",
      "[Parallel(n_jobs=3)]: Done  44 tasks      | elapsed:    0.0s\n",
      "[Parallel(n_jobs=3)]: Done 194 tasks      | elapsed:    0.1s\n"
     ]
    },
    {
     "name": "stdout",
     "output_type": "stream",
     "text": [
      "test score: 0.6181229773462783\n",
      "best grid search params: {'max_features': 0.6, 'n_estimators': 500}\n"
     ]
    },
    {
     "name": "stderr",
     "output_type": "stream",
     "text": [
      "[Parallel(n_jobs=3)]: Done 444 tasks      | elapsed:    0.2s\n",
      "[Parallel(n_jobs=3)]: Done 500 out of 500 | elapsed:    0.2s finished\n"
     ]
    }
   ],
   "source": [
    "#cross validated scores are almost exactly the same as for best Logistic Regression model, well above baseline (which is about 52%)\n",
    "\n",
    "print('cross validated score:', gs_rf.best_score_)\n",
    "print('test score:', gs_rf.score(X_test, y_test))\n",
    "print('best grid search params:', gs_rf.best_params_)"
   ]
  },
  {
   "cell_type": "code",
   "execution_count": 11,
   "metadata": {},
   "outputs": [
    {
     "name": "stderr",
     "output_type": "stream",
     "text": [
      "[Parallel(n_jobs=3)]: Using backend ThreadingBackend with 3 concurrent workers.\n",
      "[Parallel(n_jobs=3)]: Done  44 tasks      | elapsed:    0.0s\n",
      "[Parallel(n_jobs=3)]: Done 194 tasks      | elapsed:    0.1s\n",
      "[Parallel(n_jobs=3)]: Done 444 tasks      | elapsed:    0.1s\n",
      "[Parallel(n_jobs=3)]: Done 500 out of 500 | elapsed:    0.2s finished\n"
     ]
    },
    {
     "data": {
      "image/png": "[encoded data removed]",
      "text/plain": [
       "<Figure size 432x288 with 2 Axes>"
      ]
     },
     "metadata": {},
     "output_type": "display_data"
    }
   ],
   "source": [
    "# confusion matrix for best Random Forest on test set (one feature only, Location)\n",
    "\n",
    "plot_confusion_matrix(gs_rf, X_test, y_test, cmap=plt.cm.Blues);"
   ]
  },
  {
   "cell_type": "code",
   "execution_count": 52,
   "metadata": {},
   "outputs": [
    {
     "name": "stderr",
     "output_type": "stream",
     "text": [
      "[Parallel(n_jobs=3)]: Using backend ThreadingBackend with 3 concurrent workers.\n",
      "[Parallel(n_jobs=3)]: Done  44 tasks      | elapsed:    0.0s\n",
      "[Parallel(n_jobs=3)]: Done 194 tasks      | elapsed:    0.1s\n",
      "[Parallel(n_jobs=3)]: Done 444 tasks      | elapsed:    0.2s\n",
      "[Parallel(n_jobs=3)]: Done 500 out of 500 | elapsed:    0.2s finished\n"
     ]
    },
    {
     "data": {
      "image/png": "[encoded data removed]",
      "text/plain": [
       "<Figure size 432x432 with 1 Axes>"
      ]
     },
     "metadata": {},
     "output_type": "display_data"
    }
   ],
   "source": [
    "#plot roc curve on test set for best random forest\n",
    "\n",
    "fig, ax = plt.subplots(figsize=(6, 6))\n",
    "ax.plot([0, 1], [0, 1], 'k--', linewidth=2)\n",
    "plot_roc_curve(gs_rf, X_test, y_test, ax = ax)\n",
    "plt.show()"
   ]
  },
  {
   "cell_type": "code",
   "execution_count": 53,
   "metadata": {},
   "outputs": [
    {
     "name": "stderr",
     "output_type": "stream",
     "text": [
      "[Parallel(n_jobs=3)]: Using backend ThreadingBackend with 3 concurrent workers.\n",
      "[Parallel(n_jobs=3)]: Done  44 tasks      | elapsed:    0.0s\n",
      "[Parallel(n_jobs=3)]: Done 194 tasks      | elapsed:    0.1s\n",
      "[Parallel(n_jobs=3)]: Done 444 tasks      | elapsed:    0.1s\n",
      "[Parallel(n_jobs=3)]: Done 500 out of 500 | elapsed:    0.2s finished\n"
     ]
    },
    {
     "data": {
      "image/png": "[encoded data removed]",
      "text/plain": [
       "<Figure size 432x288 with 1 Axes>"
      ]
     },
     "metadata": {},
     "output_type": "display_data"
    }
   ],
   "source": [
    "# precision-recall curve for Random Forest on test set\n",
    "\n",
    "plot_precision_recall_curve(gs_rf, X_test, y_test);"
   ]
  },
  {
   "cell_type": "code",
   "execution_count": 57,
   "metadata": {},
   "outputs": [
    {
     "data": {
      "image/png": "[encoded data removed]",
      "text/plain": [
       "<Figure size 720x432 with 1 Axes>"
      ]
     },
     "metadata": {},
     "output_type": "display_data"
    }
   ],
   "source": [
    "#as for Logistic Regression, it will be too cumbersome to visualise all significance of all the features for Random Forest\n",
    "# again we will pull out the twenty most important for plotting\n",
    "\n",
    "rf_features = pd.DataFrame(list(zip(X_train.columns, gs_rf.best_estimator_.feature_importances_)), columns = ['city', 'importance'])\n",
    "rf_top_twenty = rf_features.sort_values(by = 'importance', ascending = False).head(20)\n",
    "rf_top_twenty.plot(kind = 'barh', x = 0, y = 1, figsize = (10, 6), title = 'Feature Importance in Random Forest')\n",
    "plt.show()"
   ]
  },
  {
   "cell_type": "markdown",
   "metadata": {},
   "source": [
    "# STEP SIX: Assessing the two 'one-feature' models\n",
    "\n",
    "- The LogisticRegression and RandomForest models have a very similar cross val score (about 0.66, which is significantly above the baseline figure of 0.52)\n",
    "- As there is only one feature, inevitably the coefs for the LogisticRegression and the feature_importances for the RandomForest are all geographical. \n",
    "- However the different nature of the two algorithms means that we see different cities appearing in the two lists.\n",
    "- The confusion matrices, ROC curves and Precision-Recall curves are very similar for the two models."
   ]
  },
  {
   "cell_type": "markdown",
   "metadata": {},
   "source": [
    "# STEP SEVEN: Feature engineering\n",
    "\n",
    "- This step can be broken into two parts. \n",
    "- The first part will be engineering new features from the 'Company' and 'Title' columns.\n",
    "- The second part will be Vectorising the text in the 'Description' column to see if we can make further improvements.\n",
    "\n",
    "\n",
    "\n",
    "\n",
    "-Over 300 job titles inlude an indication of seniority (eg 'Senior', 'Head' 'Director',or 'Lead')\n",
    "-There are over 100 titles that include a suggestion of junior status ('Junior', 'Apprentice', 'Apprenticeship', 'Associate', 'PhD')\n",
    "-Academic institutions tend to pay less than companies with a commercial focus - there are some entries in the ['Company'] column that contain 'University'\n",
    "-'Data Analyst' is often a stepping stone to a role in machine learning - we can create an 'analyst' feature.\n",
    "-'Machine Learning' seems to be associated with seniority, very few if any entry level positions."
   ]
  },
  {
   "cell_type": "code",
   "execution_count": 104,
   "metadata": {},
   "outputs": [
    {
     "name": "stderr",
     "output_type": "stream",
     "text": [
      "/Users/davidrhode/Desktop/anaconda3/lib/python3.7/site-packages/ipykernel_launcher.py:15: SettingWithCopyWarning: \n",
      "A value is trying to be set on a copy of a slice from a DataFrame.\n",
      "Try using .loc[row_indexer,col_indexer] = value instead\n",
      "\n",
      "See the caveats in the documentation: https://pandas.pydata.org/pandas-docs/stable/user_guide/indexing.html#returning-a-view-versus-a-copy\n",
      "  from ipykernel import kernelapp as app\n"
     ]
    }
   ],
   "source": [
    "# create a new feature linked to seniority in job titles\n",
    "\n",
    "director = annual_jobs['Title'].str.contains('Director')\n",
    "manager = annual_jobs['Title'].str.contains('Manager')\n",
    "executive = annual_jobs['Title'].str.contains('Executive')\n",
    "senior = annual_jobs['Title'].str.contains('Senior')\n",
    "lead = annual_jobs['Title'].str.contains('Lead')\n",
    "head = annual_jobs['Title'].str.contains('Head')\n",
    "vp = annual_jobs['Title'].str.contains('VP')\n",
    "chief = annual_jobs['Title'].str.contains('Chief')\n",
    "principal = annual_jobs['Title'].str.contains('Principal')\n",
    "\n",
    "senior_jobs = director | manager | executive | senior | lead | head | vp | chief | principal\n",
    "\n",
    "annual_jobs['senior'] = senior_jobs * 1\n"
   ]
  },
  {
   "cell_type": "code",
   "execution_count": 111,
   "metadata": {},
   "outputs": [
    {
     "name": "stderr",
     "output_type": "stream",
     "text": [
      "/Users/davidrhode/Desktop/anaconda3/lib/python3.7/site-packages/ipykernel_launcher.py:10: SettingWithCopyWarning: \n",
      "A value is trying to be set on a copy of a slice from a DataFrame.\n",
      "Try using .loc[row_indexer,col_indexer] = value instead\n",
      "\n",
      "See the caveats in the documentation: https://pandas.pydata.org/pandas-docs/stable/user_guide/indexing.html#returning-a-view-versus-a-copy\n",
      "  # Remove the CWD from sys.path while we load stuff.\n"
     ]
    }
   ],
   "source": [
    "# create a new feature linked to junior status in job titles\n",
    "\n",
    "junior = annual_jobs['Title'].str.contains('Junior') \n",
    "apprentice = annual_jobs['Title'].str.contains('Apprentice') \n",
    "apprenticeship = annual_jobs['Title'].str.contains('Apprenticeship')\n",
    "phd = annual_jobs['Title'].str.contains('PhD')\n",
    "intern = annual_jobs['Title'].str.contains('Intern')\n",
    "\n",
    "junior_jobs = junior | apprentice | apprenticeship | phd | intern\n",
    "annual_jobs['junior'] = junior_jobs * 1"
   ]
  },
  {
   "cell_type": "code",
   "execution_count": 112,
   "metadata": {
    "scrolled": true
   },
   "outputs": [
    {
     "name": "stderr",
     "output_type": "stream",
     "text": [
      "/Users/davidrhode/Desktop/anaconda3/lib/python3.7/site-packages/ipykernel_launcher.py:5: SettingWithCopyWarning: \n",
      "A value is trying to be set on a copy of a slice from a DataFrame.\n",
      "Try using .loc[row_indexer,col_indexer] = value instead\n",
      "\n",
      "See the caveats in the documentation: https://pandas.pydata.org/pandas-docs/stable/user_guide/indexing.html#returning-a-view-versus-a-copy\n",
      "  \"\"\"\n"
     ]
    }
   ],
   "source": [
    "# often accademic roles are underpaid relative to similar roles in business\n",
    "# create a new 'academic' feature\n",
    "\n",
    "academic = annual_jobs['Company'].str.contains('University')\n",
    "annual_jobs['academic'] = academic * 1"
   ]
  },
  {
   "cell_type": "code",
   "execution_count": 217,
   "metadata": {},
   "outputs": [
    {
     "name": "stderr",
     "output_type": "stream",
     "text": [
      "/Users/davidrhode/Desktop/anaconda3/lib/python3.7/site-packages/ipykernel_launcher.py:3: SettingWithCopyWarning: \n",
      "A value is trying to be set on a copy of a slice from a DataFrame.\n",
      "Try using .loc[row_indexer,col_indexer] = value instead\n",
      "\n",
      "See the caveats in the documentation: https://pandas.pydata.org/pandas-docs/stable/user_guide/indexing.html#returning-a-view-versus-a-copy\n",
      "  This is separate from the ipykernel package so we can avoid doing imports until\n"
     ]
    }
   ],
   "source": [
    "# a quick examination of salaries by role suggests that 'Machine Learning Engineer' is rarely an entry level position\n",
    "\n",
    "annual_jobs['machine_learning'] = annual_jobs['Title'].str.contains('Machine Learning') * 1\n"
   ]
  },
  {
   "cell_type": "code",
   "execution_count": 262,
   "metadata": {},
   "outputs": [
    {
     "name": "stderr",
     "output_type": "stream",
     "text": [
      "/Users/davidrhode/Desktop/anaconda3/lib/python3.7/site-packages/ipykernel_launcher.py:3: SettingWithCopyWarning: \n",
      "A value is trying to be set on a copy of a slice from a DataFrame.\n",
      "Try using .loc[row_indexer,col_indexer] = value instead\n",
      "\n",
      "See the caveats in the documentation: https://pandas.pydata.org/pandas-docs/stable/user_guide/indexing.html#returning-a-view-versus-a-copy\n",
      "  This is separate from the ipykernel package so we can avoid doing imports until\n"
     ]
    }
   ],
   "source": [
    "# Likewise, a scan of salaries by role suggests that 'Data Analyst' positions are often (not always) quite junior\n",
    "\n",
    "annual_jobs['analyst'] = annual_jobs['Title'].str.contains('Data Analyst') * 1\n"
   ]
  },
  {
   "cell_type": "code",
   "execution_count": 263,
   "metadata": {},
   "outputs": [
    {
     "data": {
      "text/html": [
       "<div>\n",
       "<style scoped>\n",
       "    .dataframe tbody tr th:only-of-type {\n",
       "        vertical-align: middle;\n",
       "    }\n",
       "\n",
       "    .dataframe tbody tr th {\n",
       "        vertical-align: top;\n",
       "    }\n",
       "\n",
       "    .dataframe thead th {\n",
       "        text-align: right;\n",
       "    }\n",
       "</style>\n",
       "<table border=\"1\" class=\"dataframe\">\n",
       "  <thead>\n",
       "    <tr style=\"text-align: right;\">\n",
       "      <th></th>\n",
       "      <th>Company</th>\n",
       "      <th>Location</th>\n",
       "      <th>Description</th>\n",
       "      <th>Salary</th>\n",
       "      <th>Title</th>\n",
       "      <th>high_salary</th>\n",
       "      <th>senior</th>\n",
       "      <th>junior</th>\n",
       "      <th>academic</th>\n",
       "      <th>machine_learning</th>\n",
       "      <th>analyst</th>\n",
       "    </tr>\n",
       "  </thead>\n",
       "  <tbody>\n",
       "    <tr>\n",
       "      <th>0</th>\n",
       "      <td>Xoserve</td>\n",
       "      <td>Solihull</td>\n",
       "      <td>Knowledge of data analysis with hands on exper...</td>\n",
       "      <td>44750.0</td>\n",
       "      <td>Data Science Lead</td>\n",
       "      <td>0</td>\n",
       "      <td>1</td>\n",
       "      <td>0</td>\n",
       "      <td>0</td>\n",
       "      <td>0</td>\n",
       "      <td>0</td>\n",
       "    </tr>\n",
       "  </tbody>\n",
       "</table>\n",
       "</div>"
      ],
      "text/plain": [
       "   Company  Location                                        Description  \\\n",
       "0  Xoserve  Solihull  Knowledge of data analysis with hands on exper...   \n",
       "\n",
       "    Salary              Title  high_salary  senior  junior  academic  \\\n",
       "0  44750.0  Data Science Lead            0       1       0         0   \n",
       "\n",
       "   machine_learning  analyst  \n",
       "0                 0        0  "
      ]
     },
     "execution_count": 263,
     "metadata": {},
     "output_type": "execute_result"
    }
   ],
   "source": [
    "annual_jobs.head(1)"
   ]
  },
  {
   "cell_type": "markdown",
   "metadata": {},
   "source": [
    "# STEP EIGHT: Build models with multiple features\n",
    "\n",
    "- The next step is to try the same two models (LogisticRegression, RandomForest) with the new features that we have engineered.\n",
    "- We can then go on to extract further features from the 'Description' column.\n"
   ]
  },
  {
   "cell_type": "code",
   "execution_count": 222,
   "metadata": {},
   "outputs": [
    {
     "name": "stdout",
     "output_type": "stream",
     "text": [
      "Fitting 5 folds for each of 60 candidates, totalling 300 fits\n"
     ]
    },
    {
     "name": "stderr",
     "output_type": "stream",
     "text": [
      "/Users/davidrhode/Desktop/anaconda3/lib/python3.7/site-packages/sklearn/model_selection/_search.py:921: UserWarning: One or more of the test scores are non-finite: [       nan 0.52103631        nan 0.66988703        nan 0.52103631\n",
      "        nan 0.66988703        nan 0.52103631        nan 0.66988703\n",
      "        nan 0.63593444        nan 0.67069348        nan 0.71844717\n",
      "        nan 0.6779744         nan 0.71519851        nan 0.70549824\n",
      "        nan 0.75972313        nan 0.74027361        nan 0.77589461\n",
      "        nan 0.77589134        nan 0.78803056        nan 0.78317553\n",
      "        nan 0.78075617        nan 0.77670759        nan 0.7759142\n",
      "        nan 0.76862348        nan 0.77024291        nan 0.76215228\n",
      "        nan 0.76538462        nan 0.7613393         nan 0.76619433\n",
      "        nan 0.75486483        nan 0.76214901        nan 0.75163249]\n",
      "  category=UserWarning\n",
      "[Parallel(n_jobs=-2)]: Using backend LokyBackend with 3 concurrent workers.\n"
     ]
    },
    {
     "name": "stdout",
     "output_type": "stream",
     "text": [
      "cross validated score: 0.7880305602716469\n",
      "test score: 0.8511326860841424\n",
      "best grid search params: {'C': 5.1794746792312125, 'fit_intercept': True, 'penalty': 'l2'}\n"
     ]
    },
    {
     "name": "stderr",
     "output_type": "stream",
     "text": [
      "[Parallel(n_jobs=-2)]: Done   1 out of   1 | elapsed:    3.8s finished\n"
     ]
    }
   ],
   "source": [
    "# Again we will start with a logistic regression model, this time we will use the new features we engineered as well as 'Location' and 'Company'\n",
    "\n",
    "X = annual_jobs[['Company', 'Location', 'Title', 'senior', 'junior', 'academic', 'machine_learning', 'analyst']]\n",
    "y = annual_jobs['high_salary']\n",
    "X = pd.get_dummies(X, drop_first = True)\n",
    "\n",
    "\n",
    "lr = LogisticRegression(n_jobs = -2, verbose = 1, max_iter = 1000)\n",
    "\n",
    "X_train, X_test, y_train, y_test = train_test_split(\n",
    "    X, y, test_size = 0.2,\n",
    "    stratify = y, random_state = 1)\n",
    "\n",
    "\n",
    "params = {'C': np.logspace(-5, 5, 15),\n",
    "          'penalty': ['l1', 'l2'],\n",
    "          'fit_intercept': [True, False]}\n",
    "\n",
    "gs_lr_2 = GridSearchCV(estimator = lr,\n",
    "                  param_grid = params,\n",
    "                  cv = 5,\n",
    "                  scoring = 'accuracy',\n",
    "                  n_jobs = -2,\n",
    "                  verbose = 1)\n",
    "\n",
    "gs_lr_2.fit(X_train, y_train)\n",
    "\n",
    "\n",
    "print('cross validated score:', gs_lr_2.best_score_)\n",
    "print('test score:', gs_lr_2.score(X_test, y_test))\n",
    "print('best grid search params:', gs_lr_2.best_params_)"
   ]
  },
  {
   "cell_type": "code",
   "execution_count": 223,
   "metadata": {},
   "outputs": [
    {
     "data": {
      "image/png": "[encoded data removed]",
      "text/plain": [
       "<Figure size 432x288 with 2 Axes>"
      ]
     },
     "metadata": {},
     "output_type": "display_data"
    }
   ],
   "source": [
    "# confusion matrix for test set (logistic regression model with multiple features)\n",
    "\n",
    "plot_confusion_matrix(gs_lr_2, X_test, y_test, cmap=plt.cm.Blues);\n"
   ]
  },
  {
   "cell_type": "code",
   "execution_count": 224,
   "metadata": {},
   "outputs": [
    {
     "data": {
      "image/png": "[encoded data removed]",
      "text/plain": [
       "<Figure size 432x432 with 1 Axes>"
      ]
     },
     "metadata": {},
     "output_type": "display_data"
    }
   ],
   "source": [
    "#plot roc curve on test set for logistic regression with multiple features\n",
    "\n",
    "fig, ax = plt.subplots(figsize=(6, 6))\n",
    "ax.plot([0, 1], [0, 1], 'k--', linewidth=2)\n",
    "plot_roc_curve(gs_lr_2, X_test, y_test, ax = ax)\n",
    "plt.show()"
   ]
  },
  {
   "cell_type": "code",
   "execution_count": 225,
   "metadata": {},
   "outputs": [
    {
     "data": {
      "image/png": "[encoded data removed]",
      "text/plain": [
       "<Figure size 432x288 with 1 Axes>"
      ]
     },
     "metadata": {},
     "output_type": "display_data"
    }
   ],
   "source": [
    "# precision-recall curve for logistic regression on test set (multiple features)\n",
    "\n",
    "plot_precision_recall_curve(gs_lr_2, X_test, y_test);"
   ]
  },
  {
   "cell_type": "code",
   "execution_count": 226,
   "metadata": {},
   "outputs": [
    {
     "data": {
      "image/png": "[encoded data removed]",
      "text/plain": [
       "<Figure size 720x720 with 1 Axes>"
      ]
     },
     "metadata": {},
     "output_type": "display_data"
    }
   ],
   "source": [
    "# with many dummified features it will be cumbersome to plot all the model coefficients so we will extract the twenty most significant to visualise\n",
    "\n",
    "coefs_lr = pd.DataFrame({\n",
    "    'coef': gs_lr_2.best_estimator_.coef_[0],\n",
    "    'variable': X.columns,\n",
    "    'abscoef': np.abs(gs_lr_2.best_estimator_.coef_[0])\n",
    "})\n",
    "\n",
    "top_twenty = coefs_lr.sort_values('abscoef', ascending=False).head(20)\n",
    "top_twenty.plot(kind='barh', x='variable', y='coef',\n",
    "                       figsize=(10, 10), label='Logistic Regression Coefficients')\n",
    "plt.show()"
   ]
  },
  {
   "cell_type": "markdown",
   "metadata": {},
   "source": [
    "Previously when we worked with only one feature, there was very little to choose between logistic regression and random forest. Now we are working with multiple features we can now test to see if RF offers any improvement.\n"
   ]
  },
  {
   "cell_type": "code",
   "execution_count": 227,
   "metadata": {},
   "outputs": [
    {
     "name": "stdout",
     "output_type": "stream",
     "text": [
      "Fitting 5 folds for each of 3 candidates, totalling 15 fits\n"
     ]
    },
    {
     "name": "stderr",
     "output_type": "stream",
     "text": [
      "[Parallel(n_jobs=-2)]: Using backend ThreadingBackend with 3 concurrent workers.\n",
      "[Parallel(n_jobs=-2)]: Done  44 tasks      | elapsed:    0.8s\n",
      "[Parallel(n_jobs=-2)]: Done 194 tasks      | elapsed:    3.4s\n",
      "[Parallel(n_jobs=-2)]: Done 444 tasks      | elapsed:    7.9s\n",
      "[Parallel(n_jobs=-2)]: Done 500 out of 500 | elapsed:    9.0s finished\n"
     ]
    },
    {
     "data": {
      "text/plain": [
       "GridSearchCV(cv=5, estimator=RandomForestClassifier(n_jobs=-2, verbose=1),\n",
       "             n_jobs=-2,\n",
       "             param_grid={'max_features': [0.6, 0.8, 1.0],\n",
       "                         'n_estimators': [500]},\n",
       "             scoring='accuracy', verbose=1)"
      ]
     },
     "execution_count": 227,
     "metadata": {},
     "output_type": "execute_result"
    }
   ],
   "source": [
    "rf = RandomForestClassifier(n_jobs = -2, verbose = 1)\n",
    "\n",
    "rf_params = {'n_estimators' : [500], \n",
    "            'max_features' : [0.6, 0.8, 1.0]}\n",
    "\n",
    "gs_rf_2 = GridSearchCV(estimator = rf,\n",
    "                     param_grid = rf_params,\n",
    "                     cv = 5,\n",
    "                     scoring = 'accuracy',\n",
    "                     n_jobs = -2,\n",
    "                     verbose = 1)\n",
    "\n",
    "gs_rf_2.fit(X_train, y_train)"
   ]
  },
  {
   "cell_type": "code",
   "execution_count": 228,
   "metadata": {},
   "outputs": [
    {
     "name": "stdout",
     "output_type": "stream",
     "text": [
      "cross validated score: 0.7815691524095598\n"
     ]
    },
    {
     "name": "stderr",
     "output_type": "stream",
     "text": [
      "[Parallel(n_jobs=3)]: Using backend ThreadingBackend with 3 concurrent workers.\n",
      "[Parallel(n_jobs=3)]: Done  44 tasks      | elapsed:    0.0s\n",
      "[Parallel(n_jobs=3)]: Done 194 tasks      | elapsed:    0.1s\n"
     ]
    },
    {
     "name": "stdout",
     "output_type": "stream",
     "text": [
      "test score: 0.7993527508090615\n",
      "best grid search params: {'max_features': 0.6, 'n_estimators': 500}\n"
     ]
    },
    {
     "name": "stderr",
     "output_type": "stream",
     "text": [
      "[Parallel(n_jobs=3)]: Done 444 tasks      | elapsed:    0.2s\n",
      "[Parallel(n_jobs=3)]: Done 500 out of 500 | elapsed:    0.2s finished\n"
     ]
    }
   ],
   "source": [
    "print('cross validated score:', gs_rf_2.best_score_)\n",
    "print('test score:', gs_rf_2.score(X_test, y_test))\n",
    "print('best grid search params:', gs_rf_2.best_params_)"
   ]
  },
  {
   "cell_type": "code",
   "execution_count": 229,
   "metadata": {},
   "outputs": [
    {
     "name": "stderr",
     "output_type": "stream",
     "text": [
      "[Parallel(n_jobs=3)]: Using backend ThreadingBackend with 3 concurrent workers.\n",
      "[Parallel(n_jobs=3)]: Done  44 tasks      | elapsed:    0.0s\n",
      "[Parallel(n_jobs=3)]: Done 194 tasks      | elapsed:    0.1s\n",
      "[Parallel(n_jobs=3)]: Done 444 tasks      | elapsed:    0.1s\n",
      "[Parallel(n_jobs=3)]: Done 500 out of 500 | elapsed:    0.1s finished\n"
     ]
    },
    {
     "data": {
      "image/png": "[encoded data removed]",
      "text/plain": [
       "<Figure size 432x288 with 2 Axes>"
      ]
     },
     "metadata": {},
     "output_type": "display_data"
    }
   ],
   "source": [
    "# confusion matrix for best Random Forest on test set\n",
    "\n",
    "plot_confusion_matrix(gs_rf_2, X_test, y_test, cmap=plt.cm.Blues);"
   ]
  },
  {
   "cell_type": "code",
   "execution_count": 230,
   "metadata": {},
   "outputs": [
    {
     "name": "stderr",
     "output_type": "stream",
     "text": [
      "[Parallel(n_jobs=3)]: Using backend ThreadingBackend with 3 concurrent workers.\n",
      "[Parallel(n_jobs=3)]: Done  44 tasks      | elapsed:    0.0s\n",
      "[Parallel(n_jobs=3)]: Done 194 tasks      | elapsed:    0.1s\n",
      "[Parallel(n_jobs=3)]: Done 444 tasks      | elapsed:    0.2s\n",
      "[Parallel(n_jobs=3)]: Done 500 out of 500 | elapsed:    0.2s finished\n"
     ]
    },
    {
     "data": {
      "image/png": "[encoded data removed]",
      "text/plain": [
       "<Figure size 432x432 with 1 Axes>"
      ]
     },
     "metadata": {},
     "output_type": "display_data"
    }
   ],
   "source": [
    "#plot roc curve on test set for best random forest\n",
    "\n",
    "fig, ax = plt.subplots(figsize=(6, 6))\n",
    "ax.plot([0, 1], [0, 1], 'k--', linewidth=2)\n",
    "plot_roc_curve(gs_rf_2, X_test, y_test, ax = ax)\n",
    "plt.show()"
   ]
  },
  {
   "cell_type": "code",
   "execution_count": 232,
   "metadata": {},
   "outputs": [
    {
     "name": "stderr",
     "output_type": "stream",
     "text": [
      "[Parallel(n_jobs=3)]: Using backend ThreadingBackend with 3 concurrent workers.\n",
      "[Parallel(n_jobs=3)]: Done  44 tasks      | elapsed:    0.0s\n",
      "[Parallel(n_jobs=3)]: Done 194 tasks      | elapsed:    0.1s\n",
      "[Parallel(n_jobs=3)]: Done 444 tasks      | elapsed:    0.1s\n",
      "[Parallel(n_jobs=3)]: Done 500 out of 500 | elapsed:    0.1s finished\n"
     ]
    },
    {
     "data": {
      "image/png": "[encoded data removed]",
      "text/plain": [
       "<Figure size 432x288 with 1 Axes>"
      ]
     },
     "metadata": {},
     "output_type": "display_data"
    }
   ],
   "source": [
    "# precision-recall curve for Random Forest on test set\n",
    "\n",
    "plot_precision_recall_curve(gs_rf_2, X_test, y_test);"
   ]
  },
  {
   "cell_type": "code",
   "execution_count": 233,
   "metadata": {},
   "outputs": [
    {
     "data": {
      "image/png": "[encoded data removed]",
      "text/plain": [
       "<Figure size 720x432 with 1 Axes>"
      ]
     },
     "metadata": {},
     "output_type": "display_data"
    }
   ],
   "source": [
    "#as for Logistic Regression, it will be too cumbersome to visualise all significance of all the features for Random Forest\n",
    "# again we will pull out the twenty most important for plotting\n",
    "\n",
    "rf_features = pd.DataFrame(list(zip(X_train.columns, gs_rf_2.best_estimator_.feature_importances_)))\n",
    "rf_top_twenty = rf_features.sort_values(by = 1, ascending = False).head(20)\n",
    "rf_top_twenty.plot(kind = 'barh', x = 0, y = 1, figsize = (10, 6), title = 'Feature Importance in Random Forest')\n",
    "plt.show()"
   ]
  },
  {
   "cell_type": "markdown",
   "metadata": {},
   "source": [
    "# STEP NINE: Summarise the two multi-feature models \n",
    "\n",
    "- The feature engineering has provided a big boost to both the LogisticRegression and RandomForest models.\n",
    "- LR now scores 0.788 on cross validation, and RF now scores 0.781.\n",
    "- LR does significantly better on the test set, and so has a slightly better looking ROC curve and Precision-Recall Curve (we chose to plot these against the test set).\n",
    "- The most significant LR model coefs are almost all based on 'Company' and 'Job Title', there is only one 'Location' in the top twenty.\n",
    "- The RF model has feature_importances that include the features we engineered for 'senior', 'junior', 'academic', and 'analyst'."
   ]
  },
  {
   "cell_type": "markdown",
   "metadata": {},
   "source": [
    "# STEP TEN: Vectorise text in 'Description' column to create new features\n",
    "\n",
    "- We have made big gains from engineering simple features from 'Title' and 'Company' columns. \n",
    "- The next step is to vectorise the text in the 'Description' column, to see if we can create new features that will offer further gains.\n"
   ]
  },
  {
   "cell_type": "code",
   "execution_count": 137,
   "metadata": {},
   "outputs": [],
   "source": [
    "from scipy import sparse\n",
    "from sklearn.pipeline import make_pipeline\n",
    "from sklearn.feature_extraction.text import TfidfVectorizer\n",
    "from sklearn.preprocessing import OneHotEncoder, StandardScaler\n",
    "from sklearn.compose import ColumnTransformer, make_column_transformer, make_column_selector"
   ]
  },
  {
   "cell_type": "code",
   "execution_count": 138,
   "metadata": {},
   "outputs": [
    {
     "data": {
      "text/html": [
       "<div>\n",
       "<style scoped>\n",
       "    .dataframe tbody tr th:only-of-type {\n",
       "        vertical-align: middle;\n",
       "    }\n",
       "\n",
       "    .dataframe tbody tr th {\n",
       "        vertical-align: top;\n",
       "    }\n",
       "\n",
       "    .dataframe thead th {\n",
       "        text-align: right;\n",
       "    }\n",
       "</style>\n",
       "<table border=\"1\" class=\"dataframe\">\n",
       "  <thead>\n",
       "    <tr style=\"text-align: right;\">\n",
       "      <th></th>\n",
       "      <th>Company</th>\n",
       "      <th>Location</th>\n",
       "      <th>Description</th>\n",
       "      <th>Salary</th>\n",
       "      <th>Title</th>\n",
       "      <th>high_salary</th>\n",
       "      <th>senior</th>\n",
       "      <th>junior</th>\n",
       "      <th>academic</th>\n",
       "    </tr>\n",
       "  </thead>\n",
       "  <tbody>\n",
       "    <tr>\n",
       "      <th>0</th>\n",
       "      <td>Xoserve</td>\n",
       "      <td>Solihull</td>\n",
       "      <td>Knowledge of data analysis with hands on exper...</td>\n",
       "      <td>44750.0</td>\n",
       "      <td>Data Science Lead</td>\n",
       "      <td>0</td>\n",
       "      <td>1</td>\n",
       "      <td>0</td>\n",
       "      <td>0</td>\n",
       "    </tr>\n",
       "  </tbody>\n",
       "</table>\n",
       "</div>"
      ],
      "text/plain": [
       "   Company  Location                                        Description  \\\n",
       "0  Xoserve  Solihull  Knowledge of data analysis with hands on exper...   \n",
       "\n",
       "    Salary              Title  high_salary  senior  junior  academic  \n",
       "0  44750.0  Data Science Lead            0       1       0         0  "
      ]
     },
     "execution_count": 138,
     "metadata": {},
     "output_type": "execute_result"
    }
   ],
   "source": [
    "annual_jobs.head(1)"
   ]
  },
  {
   "cell_type": "code",
   "execution_count": 235,
   "metadata": {},
   "outputs": [],
   "source": [
    "tfidvec = TfidfVectorizer(ngram_range = (1, 2), stop_words = 'english')\n",
    "one_hot = OneHotEncoder(sparse=False, drop=None, handle_unknown='ignore')\n",
    "scaler = StandardScaler(with_mean=False)"
   ]
  },
  {
   "cell_type": "code",
   "execution_count": 244,
   "metadata": {},
   "outputs": [],
   "source": [
    "col_trans = ColumnTransformer([('corpus', tfidvec, 'Description'), \n",
    "                               ('categories', one_hot, ['Company', 'Location', 'Title', 'senior', 'junior', 'academic', 'machine_learning', 'analyst']),\n",
    "                               ], \n",
    "                              remainder='passthrough', \n",
    "                             sparse_threshold=0.6) "
   ]
  },
  {
   "cell_type": "code",
   "execution_count": 245,
   "metadata": {},
   "outputs": [
    {
     "data": {
      "text/plain": [
       "<1545x18763 sparse matrix of type '<class 'numpy.float64'>'\n",
       "\twith 55950 stored elements in Compressed Sparse Row format>"
      ]
     },
     "execution_count": 245,
     "metadata": {},
     "output_type": "execute_result"
    }
   ],
   "source": [
    "cmat = col_trans.fit_transform(annual_jobs)\n",
    "cmat"
   ]
  },
  {
   "cell_type": "code",
   "execution_count": 246,
   "metadata": {},
   "outputs": [
    {
     "data": {
      "text/plain": [
       "['years working',\n",
       " 'young',\n",
       " 'young agile',\n",
       " 'young sme',\n",
       " 'yoy',\n",
       " 'yoy trail',\n",
       " 'zero',\n",
       " 'zero building',\n",
       " 'zuse',\n",
       " 'zuse talent']"
      ]
     },
     "execution_count": 246,
     "metadata": {},
     "output_type": "execute_result"
    }
   ],
   "source": [
    "col_trans.named_transformers_['corpus'].get_feature_names()[-10:]"
   ]
  },
  {
   "cell_type": "markdown",
   "metadata": {},
   "source": [
    "# STEP ELEVEN: Create a pipeline including all features, logistic regression model\n",
    "\n"
   ]
  },
  {
   "cell_type": "code",
   "execution_count": 247,
   "metadata": {},
   "outputs": [],
   "source": [
    "lr_3 = LogisticRegression(n_jobs = -2, verbose = 1, max_iter = 1000)\n",
    "\n",
    "X = annual_jobs[['Company', 'Location', 'Title','senior', 'junior', 'academic', 'Description', 'machine_learning', 'analyst']]\n",
    "y = annual_jobs['high_salary']\n",
    "\n",
    "X_train, X_test, y_train, y_test = train_test_split(\n",
    "    X, y, test_size = 0.2,\n",
    "    stratify = y, random_state = 1)\n",
    "\n",
    "\n",
    "pipe = make_pipeline(col_trans, scaler, lr_3)\n"
   ]
  },
  {
   "cell_type": "code",
   "execution_count": 248,
   "metadata": {},
   "outputs": [
    {
     "name": "stderr",
     "output_type": "stream",
     "text": [
      "[Parallel(n_jobs=-2)]: Using backend LokyBackend with 3 concurrent workers.\n",
      "[Parallel(n_jobs=-2)]: Done   1 out of   1 | elapsed:    0.4s finished\n"
     ]
    },
    {
     "data": {
      "text/plain": [
       "Pipeline(steps=[('columntransformer',\n",
       "                 ColumnTransformer(remainder='passthrough',\n",
       "                                   sparse_threshold=0.6,\n",
       "                                   transformers=[('corpus',\n",
       "                                                  TfidfVectorizer(ngram_range=(1,\n",
       "                                                                               2),\n",
       "                                                                  stop_words='english'),\n",
       "                                                  'Description'),\n",
       "                                                 ('categories',\n",
       "                                                  OneHotEncoder(handle_unknown='ignore',\n",
       "                                                                sparse=False),\n",
       "                                                  ['Company', 'Location',\n",
       "                                                   'Title', 'senior', 'junior',\n",
       "                                                   'academic',\n",
       "                                                   'machine_learning',\n",
       "                                                   'analyst'])])),\n",
       "                ('standardscaler', StandardScaler(with_mean=False)),\n",
       "                ('logisticregression',\n",
       "                 LogisticRegression(max_iter=1000, n_jobs=-2, verbose=1))])"
      ]
     },
     "execution_count": 248,
     "metadata": {},
     "output_type": "execute_result"
    }
   ],
   "source": [
    "pipe.fit(X_train, y_train)"
   ]
  },
  {
   "cell_type": "code",
   "execution_count": 249,
   "metadata": {},
   "outputs": [
    {
     "name": "stderr",
     "output_type": "stream",
     "text": [
      "[Parallel(n_jobs=-2)]: Using backend LokyBackend with 3 concurrent workers.\n",
      "[Parallel(n_jobs=-2)]: Done   1 out of   1 | elapsed:    0.2s finished\n",
      "[Parallel(n_jobs=-2)]: Using backend LokyBackend with 3 concurrent workers.\n",
      "[Parallel(n_jobs=-2)]: Done   1 out of   1 | elapsed:    0.2s finished\n",
      "[Parallel(n_jobs=-2)]: Using backend LokyBackend with 3 concurrent workers.\n",
      "[Parallel(n_jobs=-2)]: Done   1 out of   1 | elapsed:    0.3s finished\n",
      "[Parallel(n_jobs=-2)]: Using backend LokyBackend with 3 concurrent workers.\n",
      "[Parallel(n_jobs=-2)]: Done   1 out of   1 | elapsed:    0.3s finished\n",
      "[Parallel(n_jobs=-2)]: Using backend LokyBackend with 3 concurrent workers.\n"
     ]
    },
    {
     "name": "stdout",
     "output_type": "stream",
     "text": [
      "cross val score: 0.7345990596839493\n",
      "test set score: 0.7443365695792881\n"
     ]
    },
    {
     "name": "stderr",
     "output_type": "stream",
     "text": [
      "[Parallel(n_jobs=-2)]: Done   1 out of   1 | elapsed:    0.2s finished\n"
     ]
    }
   ],
   "source": [
    "print('cross val score:' , cross_val_score(pipe, X_train, y_train, cv=5).mean())\n",
    "print('test set score:', pipe.score(X_test, y_test))"
   ]
  },
  {
   "cell_type": "markdown",
   "metadata": {},
   "source": [
    "# STEP TWELVE: Assess pipeline performance and adjust\n",
    "\n",
    "- Unfortunately the cross val score has gone down relative to our earlier models - the NLP work has had a negative effect. \n",
    "\n",
    "- So far, the only parameters we tried were stop_words and ngram_range. It may be that setting a max_df might help."
   ]
  },
  {
   "cell_type": "code",
   "execution_count": 252,
   "metadata": {},
   "outputs": [],
   "source": [
    "tfidvec_2 = TfidfVectorizer(ngram_range = (1, 2), stop_words = 'english', max_df = 0.5)\n",
    "one_hot = OneHotEncoder(sparse=False, drop=None, handle_unknown='ignore')\n",
    "scaler = StandardScaler(with_mean=False)\n",
    "\n",
    "col_trans_2 = ColumnTransformer([('corpus', tfidvec_2, 'Description'), \n",
    "                               ('categories', one_hot, ['Company', 'Location', 'Title', 'senior', 'junior', 'academic', 'machine_learning', 'analyst']),\n",
    "                               ], \n",
    "                              remainder='passthrough', \n",
    "                             sparse_threshold=0.6) "
   ]
  },
  {
   "cell_type": "code",
   "execution_count": 253,
   "metadata": {},
   "outputs": [
    {
     "data": {
      "text/plain": [
       "<1545x18762 sparse matrix of type '<class 'numpy.float64'>'\n",
       "\twith 55087 stored elements in Compressed Sparse Row format>"
      ]
     },
     "execution_count": 253,
     "metadata": {},
     "output_type": "execute_result"
    }
   ],
   "source": [
    "cmat_2 = col_trans_2.fit_transform(annual_jobs)\n",
    "cmat_2"
   ]
  },
  {
   "cell_type": "code",
   "execution_count": 254,
   "metadata": {},
   "outputs": [],
   "source": [
    "lr_3 = LogisticRegression(n_jobs = -2, verbose = 1, max_iter = 1000)\n",
    "\n",
    "X = annual_jobs[['Company', 'Location', 'Title','senior', 'junior', 'academic', 'Description', 'machine_learning', 'analyst']]\n",
    "y = annual_jobs['high_salary']\n",
    "\n",
    "X_train, X_test, y_train, y_test = train_test_split(X, y, test_size = 0.2, stratify = y, random_state = 1)\n",
    "\n",
    "pipe_2 = make_pipeline(col_trans_2, scaler, lr_3)\n"
   ]
  },
  {
   "cell_type": "code",
   "execution_count": 255,
   "metadata": {},
   "outputs": [
    {
     "name": "stderr",
     "output_type": "stream",
     "text": [
      "[Parallel(n_jobs=-2)]: Using backend LokyBackend with 3 concurrent workers.\n",
      "[Parallel(n_jobs=-2)]: Done   1 out of   1 | elapsed:    0.4s finished\n"
     ]
    },
    {
     "data": {
      "text/plain": [
       "Pipeline(steps=[('columntransformer',\n",
       "                 ColumnTransformer(remainder='passthrough',\n",
       "                                   sparse_threshold=0.6,\n",
       "                                   transformers=[('corpus',\n",
       "                                                  TfidfVectorizer(max_df=0.5,\n",
       "                                                                  ngram_range=(1,\n",
       "                                                                               2),\n",
       "                                                                  stop_words='english'),\n",
       "                                                  'Description'),\n",
       "                                                 ('categories',\n",
       "                                                  OneHotEncoder(handle_unknown='ignore',\n",
       "                                                                sparse=False),\n",
       "                                                  ['Company', 'Location',\n",
       "                                                   'Title', 'senior', 'junior',\n",
       "                                                   'academic',\n",
       "                                                   'machine_learning',\n",
       "                                                   'analyst'])])),\n",
       "                ('standardscaler', StandardScaler(with_mean=False)),\n",
       "                ('logisticregression',\n",
       "                 LogisticRegression(max_iter=1000, n_jobs=-2, verbose=1))])"
      ]
     },
     "execution_count": 255,
     "metadata": {},
     "output_type": "execute_result"
    }
   ],
   "source": [
    "pipe_2.fit(X_train, y_train)"
   ]
  },
  {
   "cell_type": "code",
   "execution_count": 256,
   "metadata": {},
   "outputs": [
    {
     "name": "stderr",
     "output_type": "stream",
     "text": [
      "[Parallel(n_jobs=-2)]: Using backend LokyBackend with 3 concurrent workers.\n",
      "[Parallel(n_jobs=-2)]: Done   1 out of   1 | elapsed:    0.2s finished\n",
      "[Parallel(n_jobs=-2)]: Using backend LokyBackend with 3 concurrent workers.\n",
      "[Parallel(n_jobs=-2)]: Done   1 out of   1 | elapsed:    0.2s finished\n",
      "[Parallel(n_jobs=-2)]: Using backend LokyBackend with 3 concurrent workers.\n",
      "[Parallel(n_jobs=-2)]: Done   1 out of   1 | elapsed:    0.3s finished\n",
      "[Parallel(n_jobs=-2)]: Using backend LokyBackend with 3 concurrent workers.\n",
      "[Parallel(n_jobs=-2)]: Done   1 out of   1 | elapsed:    0.3s finished\n",
      "[Parallel(n_jobs=-2)]: Using backend LokyBackend with 3 concurrent workers.\n"
     ]
    },
    {
     "name": "stdout",
     "output_type": "stream",
     "text": [
      "cross val score: 0.7370282094815201\n",
      "test set score: 0.7443365695792881\n"
     ]
    },
    {
     "name": "stderr",
     "output_type": "stream",
     "text": [
      "[Parallel(n_jobs=-2)]: Done   1 out of   1 | elapsed:    0.3s finished\n"
     ]
    }
   ],
   "source": [
    "print('cross val score:' , cross_val_score(pipe_2, X_train, y_train, cv=5).mean())\n",
    "print('test set score:', pipe_2.score(X_test, y_test))"
   ]
  },
  {
   "cell_type": "markdown",
   "metadata": {},
   "source": [
    "# STEP THIRTEEN: Drop vectorised data taken from 'Description' column and experiment with further models\n",
    "\n",
    "- It looks like vectorizing the job description won't help us. Our best set of features is the one that includes 'Company', 'Location', 'senior', 'junior', 'machine_learning', 'analyst', and 'academic'.\n",
    "- So far we have trained two models on this set - LogisticRegression and RandomForest. LogisticRegression came out very slightly ahead on cross val score. \n",
    "- It would be interesting to see how KNN and a boosting algorithm perform on this set of features."
   ]
  },
  {
   "cell_type": "code",
   "execution_count": 257,
   "metadata": {},
   "outputs": [
    {
     "name": "stdout",
     "output_type": "stream",
     "text": [
      "Fitting 5 folds for each of 10 candidates, totalling 50 fits\n",
      "cross validated score: 0.7750881546297507\n",
      "test score: 0.8155339805825242\n",
      "best grid search params: {'n_neighbors': 20, 'weights': 'distance'}\n"
     ]
    }
   ],
   "source": [
    "from sklearn.neighbors import KNeighborsClassifier\n",
    "\n",
    "X = annual_jobs[['Company', 'Location', 'senior', 'junior', 'academic', 'Title', 'machine_learning', 'analyst']]\n",
    "y = annual_jobs['high_salary']\n",
    "X = pd.get_dummies(X, drop_first = True)\n",
    "\n",
    "\n",
    "knn = KNeighborsClassifier(n_jobs = -2)\n",
    "\n",
    "X_train, X_test, y_train, y_test = train_test_split(\n",
    "    X, y, test_size = 0.2,\n",
    "    stratify = y, random_state = 1)\n",
    "\n",
    "\n",
    "knn_params = {'weights': ['uniform', 'distance'], 'n_neighbors': [3, 5, 10, 20, 50]}\n",
    "                      \n",
    "gs_knn = GridSearchCV(estimator = knn,\n",
    "                  param_grid = knn_params,\n",
    "                  cv = 5,\n",
    "                  scoring = 'accuracy',\n",
    "                  n_jobs = -2,\n",
    "                  verbose = 1)\n",
    "\n",
    "gs_knn.fit(X_train, y_train)\n",
    "\n",
    "\n",
    "print('cross validated score:', gs_knn.best_score_)\n",
    "print('test score:', gs_knn.score(X_test, y_test))\n",
    "print('best grid search params:', gs_knn.best_params_)"
   ]
  },
  {
   "cell_type": "code",
   "execution_count": 259,
   "metadata": {},
   "outputs": [
    {
     "name": "stdout",
     "output_type": "stream",
     "text": [
      "Fitting 5 folds for each of 45 candidates, totalling 225 fits\n",
      "[CV] END ..........l_rate=0.01, m_depth=2, num_estimators=50; total time=   4.6s\n",
      "[CV] END ..........l_rate=0.01, m_depth=2, num_estimators=50; total time=   4.7s\n",
      "[CV] END ..........l_rate=0.01, m_depth=2, num_estimators=50; total time=   4.6s\n",
      "[CV] END ..........l_rate=0.01, m_depth=2, num_estimators=50; total time=   4.6s\n",
      "[CV] END ..........l_rate=0.01, m_depth=2, num_estimators=50; total time=   4.6s\n",
      "[CV] END .........l_rate=0.01, m_depth=2, num_estimators=100; total time=   5.5s\n",
      "[CV] END .........l_rate=0.01, m_depth=2, num_estimators=100; total time=   4.7s\n",
      "[CV] END .........l_rate=0.01, m_depth=2, num_estimators=100; total time=   5.4s\n",
      "[CV] END .........l_rate=0.01, m_depth=2, num_estimators=100; total time=   4.6s\n",
      "[CV] END .........l_rate=0.01, m_depth=2, num_estimators=100; total time=   4.7s\n",
      "[CV] END .........l_rate=0.01, m_depth=2, num_estimators=150; total time=   4.6s\n",
      "[CV] END .........l_rate=0.01, m_depth=2, num_estimators=150; total time=   4.5s\n",
      "[CV] END .........l_rate=0.01, m_depth=2, num_estimators=150; total time=   4.7s\n",
      "[CV] END .........l_rate=0.01, m_depth=2, num_estimators=150; total time=   4.5s\n",
      "[CV] END .........l_rate=0.01, m_depth=2, num_estimators=150; total time=   5.0s\n",
      "[CV] END .........l_rate=0.01, m_depth=2, num_estimators=200; total time=   4.5s\n",
      "[CV] END .........l_rate=0.01, m_depth=2, num_estimators=200; total time=   4.6s\n",
      "[CV] END .........l_rate=0.01, m_depth=2, num_estimators=200; total time=   4.6s\n",
      "[CV] END .........l_rate=0.01, m_depth=2, num_estimators=200; total time=   4.6s\n",
      "[CV] END .........l_rate=0.01, m_depth=2, num_estimators=200; total time=   4.6s\n",
      "[CV] END .........l_rate=0.01, m_depth=2, num_estimators=250; total time=   4.5s\n",
      "[CV] END .........l_rate=0.01, m_depth=2, num_estimators=250; total time=   4.6s\n",
      "[CV] END .........l_rate=0.01, m_depth=2, num_estimators=250; total time=   4.5s\n",
      "[CV] END .........l_rate=0.01, m_depth=2, num_estimators=250; total time=   4.6s\n",
      "[CV] END .........l_rate=0.01, m_depth=2, num_estimators=250; total time=   4.5s\n",
      "[CV] END ..........l_rate=0.01, m_depth=3, num_estimators=50; total time=   4.7s\n",
      "[CV] END ..........l_rate=0.01, m_depth=3, num_estimators=50; total time=   4.6s\n",
      "[CV] END ..........l_rate=0.01, m_depth=3, num_estimators=50; total time=   4.6s\n",
      "[CV] END ..........l_rate=0.01, m_depth=3, num_estimators=50; total time=   4.6s\n",
      "[CV] END ..........l_rate=0.01, m_depth=3, num_estimators=50; total time=   4.6s\n",
      "[CV] END .........l_rate=0.01, m_depth=3, num_estimators=100; total time=   4.6s\n",
      "[CV] END .........l_rate=0.01, m_depth=3, num_estimators=100; total time=   4.5s\n",
      "[CV] END .........l_rate=0.01, m_depth=3, num_estimators=100; total time=   4.6s\n",
      "[CV] END .........l_rate=0.01, m_depth=3, num_estimators=100; total time=   4.6s\n",
      "[CV] END .........l_rate=0.01, m_depth=3, num_estimators=100; total time=   4.6s\n",
      "[CV] END .........l_rate=0.01, m_depth=3, num_estimators=150; total time=   4.6s\n",
      "[CV] END .........l_rate=0.01, m_depth=3, num_estimators=150; total time=   4.6s\n",
      "[CV] END .........l_rate=0.01, m_depth=3, num_estimators=150; total time=   4.6s\n",
      "[CV] END .........l_rate=0.01, m_depth=3, num_estimators=150; total time=   4.6s\n",
      "[CV] END .........l_rate=0.01, m_depth=3, num_estimators=150; total time=   4.9s\n",
      "[CV] END .........l_rate=0.01, m_depth=3, num_estimators=200; total time=   4.9s\n",
      "[CV] END .........l_rate=0.01, m_depth=3, num_estimators=200; total time=   5.6s\n",
      "[CV] END .........l_rate=0.01, m_depth=3, num_estimators=200; total time=   5.7s\n",
      "[CV] END .........l_rate=0.01, m_depth=3, num_estimators=200; total time=   6.2s\n",
      "[CV] END .........l_rate=0.01, m_depth=3, num_estimators=200; total time=   5.6s\n",
      "[CV] END .........l_rate=0.01, m_depth=3, num_estimators=250; total time=   4.7s\n",
      "[CV] END .........l_rate=0.01, m_depth=3, num_estimators=250; total time=   5.8s\n",
      "[CV] END .........l_rate=0.01, m_depth=3, num_estimators=250; total time=   5.8s\n",
      "[CV] END .........l_rate=0.01, m_depth=3, num_estimators=250; total time=   5.7s\n",
      "[CV] END .........l_rate=0.01, m_depth=3, num_estimators=250; total time=   6.0s\n",
      "[CV] END ..........l_rate=0.01, m_depth=4, num_estimators=50; total time=   5.1s\n",
      "[CV] END ..........l_rate=0.01, m_depth=4, num_estimators=50; total time=   4.6s\n",
      "[CV] END ..........l_rate=0.01, m_depth=4, num_estimators=50; total time=   4.6s\n",
      "[CV] END ..........l_rate=0.01, m_depth=4, num_estimators=50; total time=   4.6s\n",
      "[CV] END ..........l_rate=0.01, m_depth=4, num_estimators=50; total time=   4.6s\n",
      "[CV] END .........l_rate=0.01, m_depth=4, num_estimators=100; total time=   4.6s\n",
      "[CV] END .........l_rate=0.01, m_depth=4, num_estimators=100; total time=   4.6s\n",
      "[CV] END .........l_rate=0.01, m_depth=4, num_estimators=100; total time=   4.6s\n",
      "[CV] END .........l_rate=0.01, m_depth=4, num_estimators=100; total time=   5.9s\n",
      "[CV] END .........l_rate=0.01, m_depth=4, num_estimators=100; total time=   5.3s\n",
      "[CV] END .........l_rate=0.01, m_depth=4, num_estimators=150; total time=   4.8s\n",
      "[CV] END .........l_rate=0.01, m_depth=4, num_estimators=150; total time=   4.7s\n",
      "[CV] END .........l_rate=0.01, m_depth=4, num_estimators=150; total time=   4.6s\n",
      "[CV] END .........l_rate=0.01, m_depth=4, num_estimators=150; total time=   4.7s\n",
      "[CV] END .........l_rate=0.01, m_depth=4, num_estimators=150; total time=   5.8s\n",
      "[CV] END .........l_rate=0.01, m_depth=4, num_estimators=200; total time=   4.7s\n",
      "[CV] END .........l_rate=0.01, m_depth=4, num_estimators=200; total time=   4.6s\n",
      "[CV] END .........l_rate=0.01, m_depth=4, num_estimators=200; total time=   4.6s\n",
      "[CV] END .........l_rate=0.01, m_depth=4, num_estimators=200; total time=   4.6s\n",
      "[CV] END .........l_rate=0.01, m_depth=4, num_estimators=200; total time=   4.6s\n",
      "[CV] END .........l_rate=0.01, m_depth=4, num_estimators=250; total time=   4.6s\n",
      "[CV] END .........l_rate=0.01, m_depth=4, num_estimators=250; total time=   4.5s\n",
      "[CV] END .........l_rate=0.01, m_depth=4, num_estimators=250; total time=   4.6s\n",
      "[CV] END .........l_rate=0.01, m_depth=4, num_estimators=250; total time=   4.6s\n",
      "[CV] END .........l_rate=0.01, m_depth=4, num_estimators=250; total time=   4.6s\n",
      "[CV] END ...........l_rate=0.1, m_depth=2, num_estimators=50; total time=   4.6s\n",
      "[CV] END ...........l_rate=0.1, m_depth=2, num_estimators=50; total time=   4.6s\n",
      "[CV] END ...........l_rate=0.1, m_depth=2, num_estimators=50; total time=   4.6s\n",
      "[CV] END ...........l_rate=0.1, m_depth=2, num_estimators=50; total time=   4.6s\n",
      "[CV] END ...........l_rate=0.1, m_depth=2, num_estimators=50; total time=   4.6s\n",
      "[CV] END ..........l_rate=0.1, m_depth=2, num_estimators=100; total time=   4.6s\n",
      "[CV] END ..........l_rate=0.1, m_depth=2, num_estimators=100; total time=   5.7s\n",
      "[CV] END ..........l_rate=0.1, m_depth=2, num_estimators=100; total time=   4.9s\n",
      "[CV] END ..........l_rate=0.1, m_depth=2, num_estimators=100; total time=   5.0s\n",
      "[CV] END ..........l_rate=0.1, m_depth=2, num_estimators=100; total time=   4.6s\n",
      "[CV] END ..........l_rate=0.1, m_depth=2, num_estimators=150; total time=   4.6s\n",
      "[CV] END ..........l_rate=0.1, m_depth=2, num_estimators=150; total time=   4.7s\n",
      "[CV] END ..........l_rate=0.1, m_depth=2, num_estimators=150; total time=   4.7s\n",
      "[CV] END ..........l_rate=0.1, m_depth=2, num_estimators=150; total time=   4.6s\n",
      "[CV] END ..........l_rate=0.1, m_depth=2, num_estimators=150; total time=   6.1s\n",
      "[CV] END ..........l_rate=0.1, m_depth=2, num_estimators=200; total time=   5.8s\n",
      "[CV] END ..........l_rate=0.1, m_depth=2, num_estimators=200; total time=   6.1s\n",
      "[CV] END ..........l_rate=0.1, m_depth=2, num_estimators=200; total time=   5.8s\n",
      "[CV] END ..........l_rate=0.1, m_depth=2, num_estimators=200; total time=   5.1s\n",
      "[CV] END ..........l_rate=0.1, m_depth=2, num_estimators=200; total time=   4.8s\n",
      "[CV] END ..........l_rate=0.1, m_depth=2, num_estimators=250; total time=   5.0s\n",
      "[CV] END ..........l_rate=0.1, m_depth=2, num_estimators=250; total time=   5.4s\n",
      "[CV] END ..........l_rate=0.1, m_depth=2, num_estimators=250; total time=   5.6s\n",
      "[CV] END ..........l_rate=0.1, m_depth=2, num_estimators=250; total time=   6.0s\n",
      "[CV] END ..........l_rate=0.1, m_depth=2, num_estimators=250; total time=   5.5s\n",
      "[CV] END ...........l_rate=0.1, m_depth=3, num_estimators=50; total time=   4.8s\n"
     ]
    },
    {
     "name": "stdout",
     "output_type": "stream",
     "text": [
      "[CV] END ...........l_rate=0.1, m_depth=3, num_estimators=50; total time=   5.8s\n",
      "[CV] END ...........l_rate=0.1, m_depth=3, num_estimators=50; total time=   5.0s\n",
      "[CV] END ...........l_rate=0.1, m_depth=3, num_estimators=50; total time=   4.6s\n",
      "[CV] END ...........l_rate=0.1, m_depth=3, num_estimators=50; total time=   6.1s\n",
      "[CV] END ..........l_rate=0.1, m_depth=3, num_estimators=100; total time=   6.5s\n",
      "[CV] END ..........l_rate=0.1, m_depth=3, num_estimators=100; total time=   7.6s\n",
      "[CV] END ..........l_rate=0.1, m_depth=3, num_estimators=100; total time=   6.5s\n",
      "[CV] END ..........l_rate=0.1, m_depth=3, num_estimators=100; total time=   5.5s\n",
      "[CV] END ..........l_rate=0.1, m_depth=3, num_estimators=100; total time=   6.9s\n",
      "[CV] END ..........l_rate=0.1, m_depth=3, num_estimators=150; total time=   6.8s\n",
      "[CV] END ..........l_rate=0.1, m_depth=3, num_estimators=150; total time=   5.3s\n",
      "[CV] END ..........l_rate=0.1, m_depth=3, num_estimators=150; total time=   4.9s\n",
      "[CV] END ..........l_rate=0.1, m_depth=3, num_estimators=150; total time=   4.6s\n",
      "[CV] END ..........l_rate=0.1, m_depth=3, num_estimators=150; total time=   4.6s\n",
      "[CV] END ..........l_rate=0.1, m_depth=3, num_estimators=200; total time=   7.3s\n",
      "[CV] END ..........l_rate=0.1, m_depth=3, num_estimators=200; total time=   5.9s\n",
      "[CV] END ..........l_rate=0.1, m_depth=3, num_estimators=200; total time=   5.2s\n",
      "[CV] END ..........l_rate=0.1, m_depth=3, num_estimators=200; total time=   4.5s\n",
      "[CV] END ..........l_rate=0.1, m_depth=3, num_estimators=200; total time=   4.6s\n",
      "[CV] END ..........l_rate=0.1, m_depth=3, num_estimators=250; total time=   4.5s\n",
      "[CV] END ..........l_rate=0.1, m_depth=3, num_estimators=250; total time=   4.5s\n",
      "[CV] END ..........l_rate=0.1, m_depth=3, num_estimators=250; total time=   4.5s\n",
      "[CV] END ..........l_rate=0.1, m_depth=3, num_estimators=250; total time=   4.6s\n",
      "[CV] END ..........l_rate=0.1, m_depth=3, num_estimators=250; total time=   4.6s\n",
      "[CV] END ...........l_rate=0.1, m_depth=4, num_estimators=50; total time=   4.5s\n",
      "[CV] END ...........l_rate=0.1, m_depth=4, num_estimators=50; total time=   4.6s\n",
      "[CV] END ...........l_rate=0.1, m_depth=4, num_estimators=50; total time=   4.5s\n",
      "[CV] END ...........l_rate=0.1, m_depth=4, num_estimators=50; total time=   4.6s\n",
      "[CV] END ...........l_rate=0.1, m_depth=4, num_estimators=50; total time=   4.5s\n",
      "[CV] END ..........l_rate=0.1, m_depth=4, num_estimators=100; total time=   4.6s\n",
      "[CV] END ..........l_rate=0.1, m_depth=4, num_estimators=100; total time=   4.5s\n",
      "[CV] END ..........l_rate=0.1, m_depth=4, num_estimators=100; total time=   4.5s\n",
      "[CV] END ..........l_rate=0.1, m_depth=4, num_estimators=100; total time=   4.6s\n",
      "[CV] END ..........l_rate=0.1, m_depth=4, num_estimators=100; total time=   5.3s\n",
      "[CV] END ..........l_rate=0.1, m_depth=4, num_estimators=150; total time=   4.5s\n",
      "[CV] END ..........l_rate=0.1, m_depth=4, num_estimators=150; total time=   4.6s\n",
      "[CV] END ..........l_rate=0.1, m_depth=4, num_estimators=150; total time=   4.5s\n",
      "[CV] END ..........l_rate=0.1, m_depth=4, num_estimators=150; total time=   4.5s\n",
      "[CV] END ..........l_rate=0.1, m_depth=4, num_estimators=150; total time=   4.5s\n",
      "[CV] END ..........l_rate=0.1, m_depth=4, num_estimators=200; total time=   4.5s\n",
      "[CV] END ..........l_rate=0.1, m_depth=4, num_estimators=200; total time=   4.6s\n",
      "[CV] END ..........l_rate=0.1, m_depth=4, num_estimators=200; total time=   4.5s\n",
      "[CV] END ..........l_rate=0.1, m_depth=4, num_estimators=200; total time=   4.5s\n",
      "[CV] END ..........l_rate=0.1, m_depth=4, num_estimators=200; total time=   4.5s\n",
      "[CV] END ..........l_rate=0.1, m_depth=4, num_estimators=250; total time=   4.7s\n",
      "[CV] END ..........l_rate=0.1, m_depth=4, num_estimators=250; total time=   4.6s\n",
      "[CV] END ..........l_rate=0.1, m_depth=4, num_estimators=250; total time=   4.6s\n",
      "[CV] END ..........l_rate=0.1, m_depth=4, num_estimators=250; total time=   4.7s\n",
      "[CV] END ..........l_rate=0.1, m_depth=4, num_estimators=250; total time=   4.8s\n",
      "[CV] END ...........l_rate=0.2, m_depth=2, num_estimators=50; total time=   4.6s\n",
      "[CV] END ...........l_rate=0.2, m_depth=2, num_estimators=50; total time=   4.5s\n",
      "[CV] END ...........l_rate=0.2, m_depth=2, num_estimators=50; total time=   4.6s\n",
      "[CV] END ...........l_rate=0.2, m_depth=2, num_estimators=50; total time=   4.5s\n",
      "[CV] END ...........l_rate=0.2, m_depth=2, num_estimators=50; total time=   4.6s\n",
      "[CV] END ..........l_rate=0.2, m_depth=2, num_estimators=100; total time=   4.5s\n",
      "[CV] END ..........l_rate=0.2, m_depth=2, num_estimators=100; total time=   4.5s\n",
      "[CV] END ..........l_rate=0.2, m_depth=2, num_estimators=100; total time=   4.6s\n",
      "[CV] END ..........l_rate=0.2, m_depth=2, num_estimators=100; total time=   4.6s\n",
      "[CV] END ..........l_rate=0.2, m_depth=2, num_estimators=100; total time=   5.1s\n",
      "[CV] END ..........l_rate=0.2, m_depth=2, num_estimators=150; total time=   8.2s\n",
      "[CV] END ..........l_rate=0.2, m_depth=2, num_estimators=150; total time=   4.9s\n",
      "[CV] END ..........l_rate=0.2, m_depth=2, num_estimators=150; total time=   4.6s\n",
      "[CV] END ..........l_rate=0.2, m_depth=2, num_estimators=150; total time=   4.6s\n",
      "[CV] END ..........l_rate=0.2, m_depth=2, num_estimators=150; total time=   4.6s\n",
      "[CV] END ..........l_rate=0.2, m_depth=2, num_estimators=200; total time=   4.5s\n",
      "[CV] END ..........l_rate=0.2, m_depth=2, num_estimators=200; total time=   4.6s\n",
      "[CV] END ..........l_rate=0.2, m_depth=2, num_estimators=200; total time=   4.7s\n",
      "[CV] END ..........l_rate=0.2, m_depth=2, num_estimators=200; total time=   4.6s\n",
      "[CV] END ..........l_rate=0.2, m_depth=2, num_estimators=200; total time=   4.7s\n",
      "[CV] END ..........l_rate=0.2, m_depth=2, num_estimators=250; total time=   7.0s\n",
      "[CV] END ..........l_rate=0.2, m_depth=2, num_estimators=250; total time=   6.1s\n",
      "[CV] END ..........l_rate=0.2, m_depth=2, num_estimators=250; total time=   5.1s\n",
      "[CV] END ..........l_rate=0.2, m_depth=2, num_estimators=250; total time=   4.9s\n",
      "[CV] END ..........l_rate=0.2, m_depth=2, num_estimators=250; total time=   5.2s\n",
      "[CV] END ...........l_rate=0.2, m_depth=3, num_estimators=50; total time=   4.9s\n",
      "[CV] END ...........l_rate=0.2, m_depth=3, num_estimators=50; total time=   4.8s\n",
      "[CV] END ...........l_rate=0.2, m_depth=3, num_estimators=50; total time=   4.5s\n",
      "[CV] END ...........l_rate=0.2, m_depth=3, num_estimators=50; total time=   4.6s\n",
      "[CV] END ...........l_rate=0.2, m_depth=3, num_estimators=50; total time=   4.5s\n",
      "[CV] END ..........l_rate=0.2, m_depth=3, num_estimators=100; total time=   4.5s\n",
      "[CV] END ..........l_rate=0.2, m_depth=3, num_estimators=100; total time=   4.5s\n",
      "[CV] END ..........l_rate=0.2, m_depth=3, num_estimators=100; total time=   4.7s\n",
      "[CV] END ..........l_rate=0.2, m_depth=3, num_estimators=100; total time=   4.6s\n",
      "[CV] END ..........l_rate=0.2, m_depth=3, num_estimators=100; total time=   5.0s\n",
      "[CV] END ..........l_rate=0.2, m_depth=3, num_estimators=150; total time=   4.5s\n",
      "[CV] END ..........l_rate=0.2, m_depth=3, num_estimators=150; total time=   4.6s\n",
      "[CV] END ..........l_rate=0.2, m_depth=3, num_estimators=150; total time=   4.5s\n",
      "[CV] END ..........l_rate=0.2, m_depth=3, num_estimators=150; total time=   4.5s\n",
      "[CV] END ..........l_rate=0.2, m_depth=3, num_estimators=150; total time=   4.6s\n",
      "[CV] END ..........l_rate=0.2, m_depth=3, num_estimators=200; total time=   4.5s\n",
      "[CV] END ..........l_rate=0.2, m_depth=3, num_estimators=200; total time=   4.5s\n",
      "[CV] END ..........l_rate=0.2, m_depth=3, num_estimators=200; total time=   4.5s\n",
      "[CV] END ..........l_rate=0.2, m_depth=3, num_estimators=200; total time=   4.6s\n",
      "[CV] END ..........l_rate=0.2, m_depth=3, num_estimators=200; total time=   4.5s\n",
      "[CV] END ..........l_rate=0.2, m_depth=3, num_estimators=250; total time=   4.6s\n",
      "[CV] END ..........l_rate=0.2, m_depth=3, num_estimators=250; total time=   4.5s\n",
      "[CV] END ..........l_rate=0.2, m_depth=3, num_estimators=250; total time=   4.6s\n",
      "[CV] END ..........l_rate=0.2, m_depth=3, num_estimators=250; total time=   4.5s\n",
      "[CV] END ..........l_rate=0.2, m_depth=3, num_estimators=250; total time=   4.6s\n",
      "[CV] END ...........l_rate=0.2, m_depth=4, num_estimators=50; total time=   4.5s\n",
      "[CV] END ...........l_rate=0.2, m_depth=4, num_estimators=50; total time=   4.5s\n",
      "[CV] END ...........l_rate=0.2, m_depth=4, num_estimators=50; total time=   4.6s\n"
     ]
    },
    {
     "name": "stdout",
     "output_type": "stream",
     "text": [
      "[CV] END ...........l_rate=0.2, m_depth=4, num_estimators=50; total time=   5.6s\n",
      "[CV] END ...........l_rate=0.2, m_depth=4, num_estimators=50; total time=   4.6s\n",
      "[CV] END ..........l_rate=0.2, m_depth=4, num_estimators=100; total time=   4.5s\n",
      "[CV] END ..........l_rate=0.2, m_depth=4, num_estimators=100; total time=   4.6s\n",
      "[CV] END ..........l_rate=0.2, m_depth=4, num_estimators=100; total time=   4.5s\n",
      "[CV] END ..........l_rate=0.2, m_depth=4, num_estimators=100; total time=   4.6s\n",
      "[CV] END ..........l_rate=0.2, m_depth=4, num_estimators=100; total time=   4.6s\n",
      "[CV] END ..........l_rate=0.2, m_depth=4, num_estimators=150; total time=   4.9s\n",
      "[CV] END ..........l_rate=0.2, m_depth=4, num_estimators=150; total time=   4.5s\n",
      "[CV] END ..........l_rate=0.2, m_depth=4, num_estimators=150; total time=   4.6s\n",
      "[CV] END ..........l_rate=0.2, m_depth=4, num_estimators=150; total time=   4.5s\n",
      "[CV] END ..........l_rate=0.2, m_depth=4, num_estimators=150; total time=   4.5s\n",
      "[CV] END ..........l_rate=0.2, m_depth=4, num_estimators=200; total time=   4.6s\n",
      "[CV] END ..........l_rate=0.2, m_depth=4, num_estimators=200; total time=   4.5s\n",
      "[CV] END ..........l_rate=0.2, m_depth=4, num_estimators=200; total time=   4.6s\n",
      "[CV] END ..........l_rate=0.2, m_depth=4, num_estimators=200; total time=   4.5s\n",
      "[CV] END ..........l_rate=0.2, m_depth=4, num_estimators=200; total time=   4.6s\n",
      "[CV] END ..........l_rate=0.2, m_depth=4, num_estimators=250; total time=   4.5s\n",
      "[CV] END ..........l_rate=0.2, m_depth=4, num_estimators=250; total time=   4.5s\n",
      "[CV] END ..........l_rate=0.2, m_depth=4, num_estimators=250; total time=   4.7s\n",
      "[CV] END ..........l_rate=0.2, m_depth=4, num_estimators=250; total time=   4.5s\n",
      "[CV] END ..........l_rate=0.2, m_depth=4, num_estimators=250; total time=   4.6s\n"
     ]
    },
    {
     "data": {
      "text/plain": [
       "GridSearchCV(cv=5, estimator=XGBClassifier(n_jobs=-2),\n",
       "             param_grid={'l_rate': [0.01, 0.1, 0.2], 'm_depth': [2, 3, 4],\n",
       "                         'num_estimators': range(50, 300, 50)},\n",
       "             scoring='accuracy', verbose=2)"
      ]
     },
     "execution_count": 259,
     "metadata": {},
     "output_type": "execute_result"
    }
   ],
   "source": [
    "from xgboost import XGBClassifier\n",
    "\n",
    "\n",
    "X = annual_jobs[['Company', 'Location', 'senior', 'junior', 'academic', 'Title', 'machine_learning', 'analyst']]\n",
    "y = annual_jobs['high_salary']\n",
    "X = pd.get_dummies(X, drop_first = True)\n",
    "\n",
    "\n",
    "xgb = XGBClassifier(n_jobs = -2)\n",
    "\n",
    "X_train, X_test, y_train, y_test = train_test_split(\n",
    "    X, y, test_size = 0.2,\n",
    "    stratify = y, random_state = 1)\n",
    "\n",
    "\n",
    "xgb_params = {'m_depth' : [2, 3, 4], 'l_rate' : [0.01, 0.1, 0.2], 'num_estimators' : range(50, 300, 50)}\n",
    "                      \n",
    "gs_xgb = GridSearchCV(estimator = xgb,\n",
    "                  param_grid = xgb_params,\n",
    "                  cv = 5,\n",
    "                  scoring = 'accuracy',\n",
    "                  verbose = 2)\n",
    "\n",
    "gs_xgb.fit(X_train, y_train)\n"
   ]
  },
  {
   "cell_type": "code",
   "execution_count": 260,
   "metadata": {},
   "outputs": [
    {
     "name": "stdout",
     "output_type": "stream",
     "text": [
      "cross validated score: 0.7313830481911976\n",
      "test score: 0.7508090614886731\n",
      "best grid search params: {'l_rate': 0.01, 'm_depth': 2, 'num_estimators': 50}\n"
     ]
    }
   ],
   "source": [
    "print('cross validated score:', gs_xgb.best_score_)\n",
    "print('test score:', gs_xgb.score(X_test, y_test))\n",
    "print('best grid search params:', gs_xgb.best_params_)"
   ]
  },
  {
   "cell_type": "code",
   "execution_count": 261,
   "metadata": {},
   "outputs": [],
   "source": [
    "# save dataset to csv\n",
    "annual_jobs.to_csv(r'/Users/davidrhode/Desktop/GA/DSI15-lessons/project/project-4/annual_jobs.csv', index=False)"
   ]
  },
  {
   "cell_type": "markdown",
   "metadata": {},
   "source": [
    "# STEP FOURTEEN: Summary\n",
    "    \n",
    "- It turns out that our best model remains LogisticRegression, trained on all engineered features except the vectorized data from the 'Description' column.\n",
    "- Our best model has a cross val score of 0.788.\n"
   ]
  },
  {
   "cell_type": "markdown",
   "metadata": {
    "focus": false,
    "id": "4fb29de2-5b98-474c-a4ad-5170b72b9aea"
   },
   "source": [
    "### Model evaluation:\n",
    "\n",
    "Your boss would rather tell a client incorrectly that they would get a lower salary job than tell a client incorrectly that they would get a high salary job. Adjust one of your models to ease his mind, and explain what it is doing and any tradeoffs.\n",
    "\n",
    "\n",
    "- Use cross-validation to evaluate your models.\n",
    "- Evaluate the accuracy, AUC, precision and recall of the models.\n",
    "- Plot the ROC and precision-recall curves for at least one of your models."
   ]
  },
  {
   "cell_type": "markdown",
   "metadata": {},
   "source": [
    "# STEP FIFTEEN: Revert to our most successful model and adjust for new requirements\n",
    "\n",
    "- Our most successful model up to this point (based on cross-validated accuracy) was a LogisticRegression, trained on all features except vectorised data from the 'Description' column\n",
    "- This model had an Accuracy score of 0.788\n",
    "- We have now been asked to adjust our priorities\n",
    "- Instead of focusing on overall Accuracy, we have been asked to minimise the number of instances where we tell a client they are due to get a high salary job only to let them down.\n",
    "- As a high_salary job has been classified as '1' or positive, the new priority is now to minimise False Positives in our predictions.\n",
    "- The formula for Precision is TP / (TP + FP).\n",
    "- Minimising False Positives will maximise our Precision score\n",
    "- Our new instructions mean that we need to optimise for Precision, which is likely to come at a cost of reduced Accuracy.\n"
   ]
  },
  {
   "cell_type": "code",
   "execution_count": 265,
   "metadata": {},
   "outputs": [
    {
     "name": "stdout",
     "output_type": "stream",
     "text": [
      "Fitting 5 folds for each of 60 candidates, totalling 300 fits\n"
     ]
    },
    {
     "name": "stderr",
     "output_type": "stream",
     "text": [
      "/Users/davidrhode/Desktop/anaconda3/lib/python3.7/site-packages/sklearn/model_selection/_search.py:921: UserWarning: One or more of the test scores are non-finite: [       nan 0.                nan 0.60458543        nan 0.\n",
      "        nan 0.60458543        nan 0.                nan 0.60458543\n",
      "        nan 0.9039598         nan 0.60531012        nan 0.71492126\n",
      "        nan 0.61302377        nan 0.69364623        nan 0.64690658\n",
      "        nan 0.74962216        nan 0.68822949        nan 0.78812876\n",
      "        nan 0.74287789        nan 0.81569594        nan 0.75581277\n",
      "        nan 0.80092771        nan 0.7484831         nan 0.80192476\n",
      "        nan 0.74108574        nan 0.79316524        nan 0.73516466\n",
      "        nan 0.78958204        nan 0.73556445        nan 0.78314096\n",
      "        nan 0.73278749        nan 0.77929986        nan 0.7382699 ]\n",
      "  category=UserWarning\n",
      "[Parallel(n_jobs=-2)]: Using backend LokyBackend with 3 concurrent workers.\n",
      "[Parallel(n_jobs=-2)]: Done   1 out of   1 | elapsed:    0.4s finished\n"
     ]
    },
    {
     "data": {
      "text/plain": [
       "GridSearchCV(cv=5,\n",
       "             estimator=LogisticRegression(max_iter=1000, n_jobs=-2, verbose=1),\n",
       "             n_jobs=-2,\n",
       "             param_grid={'C': array([1.00000000e-05, 5.17947468e-05, 2.68269580e-04, 1.38949549e-03,\n",
       "       7.19685673e-03, 3.72759372e-02, 1.93069773e-01, 1.00000000e+00,\n",
       "       5.17947468e+00, 2.68269580e+01, 1.38949549e+02, 7.19685673e+02,\n",
       "       3.72759372e+03, 1.93069773e+04, 1.00000000e+05]),\n",
       "                         'fit_intercept': [True, False],\n",
       "                         'penalty': ['l1', 'l2']},\n",
       "             scoring='precision', verbose=1)"
      ]
     },
     "execution_count": 265,
     "metadata": {},
     "output_type": "execute_result"
    }
   ],
   "source": [
    "# Retrain our most succesful model, this time scoring on 'Precision'\n",
    "\n",
    "X = annual_jobs[['Company', 'Location', 'Title', 'senior', 'junior', 'academic', 'machine_learning', 'analyst']]\n",
    "y = annual_jobs['high_salary']\n",
    "X = pd.get_dummies(X, drop_first = True)\n",
    "\n",
    "\n",
    "lr = LogisticRegression(n_jobs = -2, verbose = 1, max_iter = 1000)\n",
    "\n",
    "X_train, X_test, y_train, y_test = train_test_split(\n",
    "    X, y, test_size = 0.2,\n",
    "    stratify = y, random_state = 1)\n",
    "\n",
    "\n",
    "params = {'C': np.logspace(-5, 5, 15),\n",
    "          'penalty': ['l1', 'l2'],\n",
    "          'fit_intercept': [True, False]}\n",
    "\n",
    "gs_lr_3 = GridSearchCV(estimator = lr,\n",
    "                  param_grid = params,\n",
    "                  cv = 5,\n",
    "                  scoring = 'precision',\n",
    "                  n_jobs = -2,\n",
    "                  verbose = 1)\n",
    "\n",
    "gs_lr_3.fit(X_train, y_train)\n"
   ]
  },
  {
   "cell_type": "code",
   "execution_count": 275,
   "metadata": {},
   "outputs": [
    {
     "name": "stdout",
     "output_type": "stream",
     "text": [
      "cross validated score: 0.9039598015414712\n",
      "test score: 0.875\n",
      "best grid search params: {'C': 0.0013894954943731374, 'fit_intercept': True, 'penalty': 'l2'}\n"
     ]
    }
   ],
   "source": [
    "print('cross validated score:', gs_lr_3.best_score_)\n",
    "print('test score:', gs_lr_3.score(X_test, y_test))\n",
    "print('best grid search params:', gs_lr_3.best_params_)"
   ]
  },
  {
   "cell_type": "code",
   "execution_count": 266,
   "metadata": {},
   "outputs": [],
   "source": [
    "from sklearn.metrics import classification_report"
   ]
  },
  {
   "cell_type": "code",
   "execution_count": 273,
   "metadata": {},
   "outputs": [],
   "source": [
    "predictions = gs_lr_3.predict(X_test)"
   ]
  },
  {
   "cell_type": "code",
   "execution_count": 274,
   "metadata": {},
   "outputs": [
    {
     "name": "stdout",
     "output_type": "stream",
     "text": [
      "              precision    recall  f1-score   support\n",
      "\n",
      "           0     0.5799    0.9689    0.7256       161\n",
      "           1     0.8750    0.2365    0.3723       148\n",
      "\n",
      "    accuracy                         0.6181       309\n",
      "   macro avg     0.7275    0.6027    0.5490       309\n",
      "weighted avg     0.7213    0.6181    0.5564       309\n",
      "\n"
     ]
    }
   ],
   "source": [
    "# classification report for LR model that prioritises Precision\n",
    "\n",
    "print(classification_report(y_test, predictions, digits=4))"
   ]
  },
  {
   "cell_type": "code",
   "execution_count": 276,
   "metadata": {},
   "outputs": [
    {
     "data": {
      "image/png": "[encoded data removed]",
      "text/plain": [
       "<Figure size 432x288 with 2 Axes>"
      ]
     },
     "metadata": {},
     "output_type": "display_data"
    }
   ],
   "source": [
    "# plot confusion matrix for LR model that prioritises Precision\n",
    "\n",
    "plot_confusion_matrix(gs_lr_3, X_test, y_test, cmap=plt.cm.Blues);"
   ]
  },
  {
   "cell_type": "code",
   "execution_count": 277,
   "metadata": {},
   "outputs": [
    {
     "data": {
      "image/png": "[encoded data removed]",
      "text/plain": [
       "<Figure size 432x432 with 1 Axes>"
      ]
     },
     "metadata": {},
     "output_type": "display_data"
    }
   ],
   "source": [
    "#plot roc curve on test set for LR model that prioritises Precision\n",
    "\n",
    "fig, ax = plt.subplots(figsize=(6, 6))\n",
    "ax.plot([0, 1], [0, 1], 'k--', linewidth=2)\n",
    "plot_roc_curve(gs_lr_3, X_test, y_test, ax = ax)\n",
    "plt.show()"
   ]
  },
  {
   "cell_type": "code",
   "execution_count": 278,
   "metadata": {},
   "outputs": [
    {
     "data": {
      "image/png": "[encoded data removed]",
      "text/plain": [
       "<Figure size 432x288 with 1 Axes>"
      ]
     },
     "metadata": {},
     "output_type": "display_data"
    }
   ],
   "source": [
    "# precision-recall curve for LR model that prioritises Precision\n",
    "\n",
    "plot_precision_recall_curve(gs_lr_3, X_test, y_test);"
   ]
  },
  {
   "cell_type": "markdown",
   "metadata": {
    "focus": false,
    "id": "4fb29de2-5b98-474c-a4ad-5170b72b9aea"
   },
   "source": [
    "<img src=\"http://imgur.com/xDpSobf.png\" style=\"float: left; margin: 25px 15px 0px 0px; height: 25px\">\n",
    "\n",
    "### Bonus:\n",
    "\n",
    "- Answer the salary discussion by using your model to explain the tradeoffs between detecting high vs low salary positions. \n",
    "- Discuss the differences and explain when you want a high-recall or a high-precision model in this scenario.\n",
    "- Obtain the ROC/precision-recall curves for the different models you studied (at least the tuned model of each category) and compare."
   ]
  },
  {
   "cell_type": "markdown",
   "metadata": {},
   "source": [
    "# STEP SIXTEEN: Assess the results from prioritising 'Precision' and explore alternatives\n",
    "\n",
    "- In the last step we fitted a model with the aim of minimising the number of False Positives.\n",
    "- The upside to this was that we only had five false positives in the test set (see confusion matrix). \n",
    "- From the perspecitive of class 1, we achieved a Precision score of 0.875\n",
    "- The corresponding Recall score for class 0 was 0.969.\n",
    "\n",
    "\n",
    "- This high Precision score came at a cost. The overall accuracy of the model went down to 0.618 (from 0.788). \n",
    "- There were no less than 113 False Negatives. Every False Negative is a client that we could have steered towards a high-paying job, but we didn't. It's likely that a large number of them will feel disappointed, and will take their business elsewhere. This is the trade-off that we face when we decide to keep False Positives to an absolute minimum.\n",
    "- We don't have data on the relative costs of False Negatives and False Positives.\n",
    "\n",
    "\n",
    "- If we found there was an equal cost to False Positives and False Negatives, we could prioritise the f1 score. We could later tweak this by using a customised f-Beta score if we found that the costs weren't exactly the same.\n",
    "- In the first instance, we can fit a model that prioritises f1, and adjust later if we were to get a better sense of the relative business costs of False Positives and False Negatives.\n"
   ]
  },
  {
   "cell_type": "code",
   "execution_count": 279,
   "metadata": {
    "focus": false,
    "id": "068dc1cf-7fd7-4f27-a1f1-7f0a5a221d29"
   },
   "outputs": [
    {
     "name": "stdout",
     "output_type": "stream",
     "text": [
      "Fitting 5 folds for each of 60 candidates, totalling 300 fits\n"
     ]
    },
    {
     "name": "stderr",
     "output_type": "stream",
     "text": [
      "/Users/davidrhode/Desktop/anaconda3/lib/python3.7/site-packages/sklearn/model_selection/_search.py:921: UserWarning: One or more of the test scores are non-finite: [       nan 0.                nan 0.7237628         nan 0.\n",
      "        nan 0.7237628         nan 0.                nan 0.7237628\n",
      "        nan 0.41462736        nan 0.72428351        nan 0.70076053\n",
      "        nan 0.72691154        nan 0.71023241        nan 0.73610191\n",
      "        nan 0.74991064        nan 0.75659852        nan 0.7577459\n",
      "        nan 0.77707317        nan 0.76554387        nan 0.78215403\n",
      "        nan 0.7587979         nan 0.77548722        nan 0.75037628\n",
      "        nan 0.76702934        nan 0.74551162        nan 0.76037076\n",
      "        nan 0.74022231        nan 0.75894787        nan 0.74399743\n",
      "        nan 0.75067012        nan 0.73926595        nan 0.74220951]\n",
      "  category=UserWarning\n",
      "[Parallel(n_jobs=-2)]: Using backend LokyBackend with 3 concurrent workers.\n",
      "[Parallel(n_jobs=-2)]: Done   1 out of   1 | elapsed:    2.8s finished\n"
     ]
    },
    {
     "data": {
      "text/plain": [
       "GridSearchCV(cv=5,\n",
       "             estimator=LogisticRegression(max_iter=1000, n_jobs=-2, verbose=1),\n",
       "             n_jobs=-2,\n",
       "             param_grid={'C': array([1.00000000e-05, 5.17947468e-05, 2.68269580e-04, 1.38949549e-03,\n",
       "       7.19685673e-03, 3.72759372e-02, 1.93069773e-01, 1.00000000e+00,\n",
       "       5.17947468e+00, 2.68269580e+01, 1.38949549e+02, 7.19685673e+02,\n",
       "       3.72759372e+03, 1.93069773e+04, 1.00000000e+05]),\n",
       "                         'fit_intercept': [True, False],\n",
       "                         'penalty': ['l1', 'l2']},\n",
       "             scoring='f1', verbose=1)"
      ]
     },
     "execution_count": 279,
     "metadata": {},
     "output_type": "execute_result"
    }
   ],
   "source": [
    "# Retrain our most succesful model, this time scoring on 'f1'\n",
    "\n",
    "X = annual_jobs[['Company', 'Location', 'Title', 'senior', 'junior', 'academic', 'machine_learning', 'analyst']]\n",
    "y = annual_jobs['high_salary']\n",
    "X = pd.get_dummies(X, drop_first = True)\n",
    "\n",
    "\n",
    "lr = LogisticRegression(n_jobs = -2, verbose = 1, max_iter = 1000)\n",
    "\n",
    "X_train, X_test, y_train, y_test = train_test_split(\n",
    "    X, y, test_size = 0.2,\n",
    "    stratify = y, random_state = 1)\n",
    "\n",
    "\n",
    "params = {'C': np.logspace(-5, 5, 15),\n",
    "          'penalty': ['l1', 'l2'],\n",
    "          'fit_intercept': [True, False]}\n",
    "\n",
    "gs_lr_4 = GridSearchCV(estimator = lr,\n",
    "                  param_grid = params,\n",
    "                  cv = 5,\n",
    "                  scoring = 'f1',\n",
    "                  n_jobs = -2,\n",
    "                  verbose = 1)\n",
    "\n",
    "gs_lr_4.fit(X_train, y_train)"
   ]
  },
  {
   "cell_type": "code",
   "execution_count": 281,
   "metadata": {},
   "outputs": [
    {
     "name": "stdout",
     "output_type": "stream",
     "text": [
      "              precision    recall  f1-score   support\n",
      "\n",
      "           0     0.8333    0.7143    0.7692       161\n",
      "           1     0.7310    0.8446    0.7837       148\n",
      "\n",
      "    accuracy                         0.7767       309\n",
      "   macro avg     0.7822    0.7794    0.7765       309\n",
      "weighted avg     0.7843    0.7767    0.7762       309\n",
      "\n"
     ]
    }
   ],
   "source": [
    "# classification report for LR model that prioritises f1\n",
    "\n",
    "predictions_2 = gs_lr_4.predict(X_test)\n",
    "print(classification_report(y_test, predictions_2, digits=4))"
   ]
  },
  {
   "cell_type": "code",
   "execution_count": 280,
   "metadata": {},
   "outputs": [
    {
     "data": {
      "image/png": "[encoded data removed]",
      "text/plain": [
       "<Figure size 432x288 with 2 Axes>"
      ]
     },
     "metadata": {},
     "output_type": "display_data"
    }
   ],
   "source": [
    "# plot confusion matrix for LR model that prioritises f1\n",
    "\n",
    "plot_confusion_matrix(gs_lr_4, X_test, y_test, cmap=plt.cm.Blues);"
   ]
  },
  {
   "cell_type": "code",
   "execution_count": 282,
   "metadata": {},
   "outputs": [
    {
     "data": {
      "image/png": "[encoded data removed]",
      "text/plain": [
       "<Figure size 432x432 with 1 Axes>"
      ]
     },
     "metadata": {},
     "output_type": "display_data"
    }
   ],
   "source": [
    "#plot roc curve on test set for LR model that prioritises f1\n",
    "\n",
    "fig, ax = plt.subplots(figsize=(6, 6))\n",
    "ax.plot([0, 1], [0, 1], 'k--', linewidth=2)\n",
    "plot_roc_curve(gs_lr_4, X_test, y_test, ax = ax)\n",
    "plt.show()"
   ]
  },
  {
   "cell_type": "code",
   "execution_count": 283,
   "metadata": {},
   "outputs": [
    {
     "data": {
      "image/png": "[encoded data removed]",
      "text/plain": [
       "<Figure size 432x288 with 1 Axes>"
      ]
     },
     "metadata": {},
     "output_type": "display_data"
    }
   ],
   "source": [
    "# precision-recall curve for LR model that prioritises f1\n",
    "\n",
    "plot_precision_recall_curve(gs_lr_4, X_test, y_test);"
   ]
  },
  {
   "cell_type": "markdown",
   "metadata": {},
   "source": [
    "# STEP 17: Conclusion\n",
    "\n",
    "- As our two classes are quite well balanced (roughly 52-28), prioritising f1 doesn't give us a result that is very different from when we prioritised Accuracy.\n",
    "- The real (but currently unknown) costs of False Negatives means that prioritising Precision might not be the best way to go in practise. \n",
    "- If we were to discover that False Positives are only slightly more damaging than False Negatives, we could deal with this by creating a weighted f-Beta to score on.\n"
   ]
  },
  {
   "cell_type": "markdown",
   "metadata": {},
   "source": [
    "### Summarize your results in an executive summary written for a non-technical audience.\n",
    "   \n",
    "- Writeups should be at least 500-1000 words, defining any technical terms, explaining your approach, as well as any risks and limitations."
   ]
  },
  {
   "cell_type": "markdown",
   "metadata": {},
   "source": [
    "## EXECUTIVE SUMMARY\n",
    "\n",
    "The goal of this project was to compile information and use it to train a machine learning model to accurately predict the salaries of data-related jobs in the UK market.\n",
    "\n",
    "To do this, we scraped data from the aggregator Indeed.co.uk. We conducted four main searches, looking at roles for Data Scientists, engineers in Machine Learning , Data Analysts, and experts in Artificial Intelligence. We didn’t search simply for ‘Data’, on the basis that this would return many entries for ‘Data Entry’ which would skew our results. Each search was conducted on fifteen major UK cities, and an area within 25 miles of each. For each listing, we extracted data on the job’s Company/Employer, Salary, Title, Location and Description.\n",
    "\n",
    "Many of the results were duplicated (ie one job showing up in multiple search categories). Strangely there were also a few jobs which showed up in more than one geographic location. There was a handful of jobs from other industries (mainly law) and many job listings which either didn’t include any salary information or included temporary jobs that paid daily or weekly. Once all the unsuitable listings had been dropped, the dataset was left with just over 1500 rows. The next task was to process the salary data into a usable format, and to rationalise the location data.\n",
    "\n",
    "We could have built a model to predict the actual salary for each job (regression), but instead were asked to split salaries into multiple categories (high vs low) and predict which would apply for each job (a ‘classification’ problem). We began the modelling process by looking only at ‘Location’ as a predictor. We tried out a couple of different models, and achieved a best accuracy score of slightly over 0.66. This means that the model correctly classified about 66.2%  of all jobs as having either ‘high’ or ‘low’ salaries. This is significantly better than the baseline score of about 52% that would have been achieved by simply guessing the majority class for all jobs (ie by guessing that they all had ‘low’ salaries).\n",
    "\n",
    "The next step was to create some new features for the model to work with. We did this by extracting information from the ‘Company’ (whether the employer was an academic institution), and the ‘Title’ column (whether there were any indicators of seniority or junior status). Including these new features gave our models a big boost, improving the best one to an accuracy score of over 78.8%.\n",
    "\n",
    "After this, we created new features by vectorizing the text in the ‘Description’ column. This involved mapping the words and phrases in the text to specific numbers, to look for patterns that could be used to improve our model’s predictions. Unfortunately this didn’t work, so we dropped these new features and reverted back to the previous set. Up to this point we had tried two algorithms on this dataset, LogisticRegression and RandomForest. We then tried two more types, KNearestNeighbors and XGBoost. Of the four, LogisticRegression remained the most successful, with a score of 0.788. \n",
    "\n",
    "Finally we were asked to look at what would happen if we needed to prioritise the avoidance of False Positives (ie if it was very important to avoid predicting a high salary when this wasn’t actually the case). We recalibrated the model with this in mind, and saw that this could be achieved at the cost of overall accuracy (because minimising False Positives would mean accepting more False Negatives).\n",
    "\n",
    "Without data concerning the true costs of False Positives and False Negatives, it is impossible to know the best trade-off. However we looked how we could optimise for this once good cost data becomes available.\n",
    "\n",
    "\n"
   ]
  },
  {
   "cell_type": "markdown",
   "metadata": {},
   "source": [
    "<img src=\"http://imgur.com/xDpSobf.png\" style=\"float: left; margin: 25px 15px 0px 0px; height: 25px\">\n",
    "\n",
    "### BONUS\n",
    "\n",
    "Convert your executive summary into a public blog post of at least 500 words, in which you document your approach in a tutorial for other aspiring data scientists. Link to this in your notebook."
   ]
  }
 ],
 "metadata": {
  "kernelspec": {
   "display_name": "Python 3",
   "language": "python",
   "name": "python3"
  },
  "language_info": {
   "codemirror_mode": {
    "name": "ipython",
    "version": 3
   },
   "file_extension": ".py",
   "mimetype": "text/x-python",
   "name": "python",
   "nbconvert_exporter": "python",
   "pygments_lexer": "ipython3",
   "version": "3.8.5"
  },
  "toc": {
   "base_numbering": 1,
   "nav_menu": {},
   "number_sections": false,
   "sideBar": true,
   "skip_h1_title": true,
   "title_cell": "Table of Contents",
   "title_sidebar": "Contents",
   "toc_cell": false,
   "toc_position": {},
   "toc_section_display": "block",
   "toc_window_display": false
  }
 },
 "nbformat": 4,
 "nbformat_minor": 1
}
